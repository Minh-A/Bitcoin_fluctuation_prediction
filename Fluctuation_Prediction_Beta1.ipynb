{
  "nbformat": 4,
  "nbformat_minor": 0,
  "metadata": {
    "colab": {
      "name": "bnk_1차발표.ipynb",
      "provenance": [],
      "collapsed_sections": [],
      "include_colab_link": true
    },
    "kernelspec": {
      "name": "python3",
      "display_name": "Python 3"
    },
    "language_info": {
      "name": "python"
    }
  },
  "cells": [
    {
      "cell_type": "markdown",
      "metadata": {
        "id": "view-in-github",
        "colab_type": "text"
      },
      "source": [
        "<a href=\"https://colab.research.google.com/github/Minh-A/Bitcoin_fluctuation_prediction/blob/main/Fluctuation_Prediction_Beta1.ipynb\" target=\"_parent\"><img src=\"https://colab.research.google.com/assets/colab-badge.svg\" alt=\"Open In Colab\"/></a>"
      ]
    },
    {
      "cell_type": "markdown",
      "metadata": {
        "id": "HSNgSRJxQQyO"
      },
      "source": [
        "> 설명\n",
        "* https://blog.naver.com/jeonghj66/222008532124\n",
        "* https://blog.naver.com/naiy0404/222230337030\n"
      ]
    },
    {
      "cell_type": "code",
      "metadata": {
        "id": "8sik1fxdxqGU"
      },
      "source": [
        "# 라이브러리 임포트\n",
        "import pandas as pd\n",
        "import numpy as np\n",
        "import warnings\n",
        "warnings.filterwarnings(action='ignore')\n",
        "\n",
        "import matplotlib.pyplot as plt"
      ],
      "execution_count": null,
      "outputs": []
    },
    {
      "cell_type": "markdown",
      "metadata": {
        "id": "27Z2D0nZcI19"
      },
      "source": [
        "# 데이터 전처리"
      ]
    },
    {
      "cell_type": "code",
      "metadata": {
        "id": "YAB-r_IOcIHe"
      },
      "source": [
        "data = pd.read_csv('/content/drive/MyDrive/Colab Notebooks/bnk/데이터/final_data_mod.csv', encoding='cp949')"
      ],
      "execution_count": null,
      "outputs": []
    },
    {
      "cell_type": "code",
      "metadata": {
        "colab": {
          "base_uri": "https://localhost:8080/"
        },
        "id": "0xcOwz6bcIET",
        "outputId": "4c186427-e423-48d5-b9bc-a8b748634115"
      },
      "source": [
        "data.info()"
      ],
      "execution_count": null,
      "outputs": [
        {
          "output_type": "stream",
          "text": [
            "<class 'pandas.core.frame.DataFrame'>\n",
            "RangeIndex: 1202 entries, 0 to 1201\n",
            "Data columns (total 78 columns):\n",
            " #   Column                   Non-Null Count  Dtype  \n",
            "---  ------                   --------------  -----  \n",
            " 0   date                     1202 non-null   object \n",
            " 1   Up/Down                  1202 non-null   object \n",
            " 2   원/달러(저가)                 1202 non-null   float64\n",
            " 3   원/달러(종가)                 1202 non-null   float64\n",
            " 4    open _x                 1202 non-null   int64  \n",
            " 5    high _x                 1202 non-null   int64  \n",
            " 6    low _x                  1202 non-null   int64  \n",
            " 7    close _x                1202 non-null   int64  \n",
            " 8   전일대비                     1202 non-null   int64  \n",
            " 9   증감률                      1202 non-null   float64\n",
            " 10   volume _x               1202 non-null   int64  \n",
            " 11   value                   1202 non-null   float64\n",
            " 12  MA(5)                    1202 non-null   int64  \n",
            " 13  WMA(5)                   1202 non-null   int64  \n",
            " 14  중심선                      1202 non-null   int64  \n",
            " 15   상한선                     1202 non-null   int64  \n",
            " 16  하한선                      1202 non-null   float64\n",
            " 17  %B                       1202 non-null   float64\n",
            " 18  band width               1202 non-null   float64\n",
            " 19  전일대비.1                   1202 non-null   int64  \n",
            " 20  상승분                      1202 non-null   int64  \n",
            " 21  하락분                      1202 non-null   int64  \n",
            " 22  AU                       1202 non-null   float64\n",
            " 23  AD                       1202 non-null   float64\n",
            " 24  RS                       1202 non-null   float64\n",
            " 25  RSI                      1202 non-null   float64\n",
            " 26   12EMA                   1202 non-null   int64  \n",
            " 27  26EMA                    1202 non-null   int64  \n",
            " 28  MACD                     1202 non-null   int64  \n",
            " 29   MACD 시그널                1202 non-null   int64  \n",
            " 30  %K                       1202 non-null   float64\n",
            " 31  %D                       1202 non-null   float64\n",
            " 32   open _y                 1202 non-null   float64\n",
            " 33   high _y                 1202 non-null   float64\n",
            " 34   low _y                  1202 non-null   float64\n",
            " 35   close _y                1202 non-null   float64\n",
            " 36   volume _y               1202 non-null   int64  \n",
            " 37   환률                      1202 non-null   int64  \n",
            " 38    원화환산                   1202 non-null   int64  \n",
            " 39  open                     1202 non-null   float64\n",
            " 40  high                     1202 non-null   float64\n",
            " 41  low                      1202 non-null   float64\n",
            " 42  close                    1202 non-null   float64\n",
            " 43  volume                   1202 non-null   float64\n",
            " 44  소비자물가지수                  1202 non-null   float64\n",
            " 45  등락                       1202 non-null   int64  \n",
            " 46  등락률                      1202 non-null   float64\n",
            " 47  market_premium           828 non-null    float64\n",
            " 48  price_usd_open           828 non-null    float64\n",
            " 49  price_usd_high           828 non-null    float64\n",
            " 50  price_usd_low            828 non-null    float64\n",
            " 51  price_usd_close          828 non-null    float64\n",
            " 52  price_usd_adj_close      828 non-null    float64\n",
            " 53  nvt_golden_cross         1202 non-null   float64\n",
            " 54  stock_to_flow            1202 non-null   float64\n",
            " 55  stock_to_flow_reversion  1202 non-null   float64\n",
            " 56  puell_multiple           1202 non-null   float64\n",
            " 57  stablecoin_supply_ratio  1202 non-null   float64\n",
            " 58  mpi                      1202 non-null   float64\n",
            " 59  outflow_total            1202 non-null   float64\n",
            " 60  outflow_top10            1202 non-null   float64\n",
            " 61  outflow_mean             1202 non-null   float64\n",
            " 62  outflow_mean_ma7         1202 non-null   float64\n",
            " 63  reserve_x                1202 non-null   float64\n",
            " 64  reserve_usd_x            1202 non-null   int64  \n",
            " 65  reserve_y                1202 non-null   float64\n",
            " 66  reserve_usd_y            1202 non-null   int64  \n",
            " 67  reserve_bi               1202 non-null   float64\n",
            " 68  reserve_usd_bi           1202 non-null   float64\n",
            " 69  FGI                      1202 non-null   int64  \n",
            " 70  reserve_co               1202 non-null   float64\n",
            " 71  reserve_usd_co           1202 non-null   int64  \n",
            " 72  reserve_der              1202 non-null   float64\n",
            " 73  reserve_usd_der          1202 non-null   int64  \n",
            " 74  reserve_spot             1202 non-null   float64\n",
            " 75  reserve_usd_spot         1202 non-null   int64  \n",
            " 76  reserve_all              1202 non-null   float64\n",
            " 77  reserve_usd_all          1202 non-null   float64\n",
            "dtypes: float64(49), int64(27), object(2)\n",
            "memory usage: 732.6+ KB\n"
          ],
          "name": "stdout"
        }
      ]
    },
    {
      "cell_type": "code",
      "metadata": {
        "colab": {
          "base_uri": "https://localhost:8080/",
          "height": 360
        },
        "id": "vKawHPTscIBs",
        "outputId": "9db6c74c-1951-4c9f-cad7-8070734a2a1b"
      },
      "source": [
        "data.head()"
      ],
      "execution_count": null,
      "outputs": [
        {
          "output_type": "execute_result",
          "data": {
            "text/html": [
              "<div>\n",
              "<style scoped>\n",
              "    .dataframe tbody tr th:only-of-type {\n",
              "        vertical-align: middle;\n",
              "    }\n",
              "\n",
              "    .dataframe tbody tr th {\n",
              "        vertical-align: top;\n",
              "    }\n",
              "\n",
              "    .dataframe thead th {\n",
              "        text-align: right;\n",
              "    }\n",
              "</style>\n",
              "<table border=\"1\" class=\"dataframe\">\n",
              "  <thead>\n",
              "    <tr style=\"text-align: right;\">\n",
              "      <th></th>\n",
              "      <th>date</th>\n",
              "      <th>Up/Down</th>\n",
              "      <th>원/달러(저가)</th>\n",
              "      <th>원/달러(종가)</th>\n",
              "      <th>open _x</th>\n",
              "      <th>high _x</th>\n",
              "      <th>low _x</th>\n",
              "      <th>close _x</th>\n",
              "      <th>전일대비</th>\n",
              "      <th>증감률</th>\n",
              "      <th>volume _x</th>\n",
              "      <th>value</th>\n",
              "      <th>MA(5)</th>\n",
              "      <th>WMA(5)</th>\n",
              "      <th>중심선</th>\n",
              "      <th>상한선</th>\n",
              "      <th>하한선</th>\n",
              "      <th>%B</th>\n",
              "      <th>band width</th>\n",
              "      <th>전일대비.1</th>\n",
              "      <th>상승분</th>\n",
              "      <th>하락분</th>\n",
              "      <th>AU</th>\n",
              "      <th>AD</th>\n",
              "      <th>RS</th>\n",
              "      <th>RSI</th>\n",
              "      <th>12EMA</th>\n",
              "      <th>26EMA</th>\n",
              "      <th>MACD</th>\n",
              "      <th>MACD 시그널</th>\n",
              "      <th>%K</th>\n",
              "      <th>%D</th>\n",
              "      <th>open _y</th>\n",
              "      <th>high _y</th>\n",
              "      <th>low _y</th>\n",
              "      <th>close _y</th>\n",
              "      <th>volume _y</th>\n",
              "      <th>환률</th>\n",
              "      <th>원화환산</th>\n",
              "      <th>open</th>\n",
              "      <th>high</th>\n",
              "      <th>low</th>\n",
              "      <th>close</th>\n",
              "      <th>volume</th>\n",
              "      <th>소비자물가지수</th>\n",
              "      <th>등락</th>\n",
              "      <th>등락률</th>\n",
              "      <th>market_premium</th>\n",
              "      <th>price_usd_open</th>\n",
              "      <th>price_usd_high</th>\n",
              "      <th>price_usd_low</th>\n",
              "      <th>price_usd_close</th>\n",
              "      <th>price_usd_adj_close</th>\n",
              "      <th>nvt_golden_cross</th>\n",
              "      <th>stock_to_flow</th>\n",
              "      <th>stock_to_flow_reversion</th>\n",
              "      <th>puell_multiple</th>\n",
              "      <th>stablecoin_supply_ratio</th>\n",
              "      <th>mpi</th>\n",
              "      <th>outflow_total</th>\n",
              "      <th>outflow_top10</th>\n",
              "      <th>outflow_mean</th>\n",
              "      <th>outflow_mean_ma7</th>\n",
              "      <th>reserve_x</th>\n",
              "      <th>reserve_usd_x</th>\n",
              "      <th>reserve_y</th>\n",
              "      <th>reserve_usd_y</th>\n",
              "      <th>reserve_bi</th>\n",
              "      <th>reserve_usd_bi</th>\n",
              "      <th>FGI</th>\n",
              "      <th>reserve_co</th>\n",
              "      <th>reserve_usd_co</th>\n",
              "      <th>reserve_der</th>\n",
              "      <th>reserve_usd_der</th>\n",
              "      <th>reserve_spot</th>\n",
              "      <th>reserve_usd_spot</th>\n",
              "      <th>reserve_all</th>\n",
              "      <th>reserve_usd_all</th>\n",
              "    </tr>\n",
              "  </thead>\n",
              "  <tbody>\n",
              "    <tr>\n",
              "      <th>0</th>\n",
              "      <td>2018-02-01</td>\n",
              "      <td>Down</td>\n",
              "      <td>1068.5</td>\n",
              "      <td>1071.9</td>\n",
              "      <td>11439000</td>\n",
              "      <td>11490000</td>\n",
              "      <td>10011000</td>\n",
              "      <td>10070000</td>\n",
              "      <td>-1359000</td>\n",
              "      <td>-0.1189</td>\n",
              "      <td>22226</td>\n",
              "      <td>2.370000e+11</td>\n",
              "      <td>11877400</td>\n",
              "      <td>11341133</td>\n",
              "      <td>12472700</td>\n",
              "      <td>14525823</td>\n",
              "      <td>1.041958e+07</td>\n",
              "      <td>-0.09</td>\n",
              "      <td>0.33</td>\n",
              "      <td>-1359000</td>\n",
              "      <td>0</td>\n",
              "      <td>1359000</td>\n",
              "      <td>261666.6667</td>\n",
              "      <td>642666.6667</td>\n",
              "      <td>0.407158</td>\n",
              "      <td>28.934759</td>\n",
              "      <td>12957482</td>\n",
              "      <td>15148589</td>\n",
              "      <td>-2191106</td>\n",
              "      <td>-1901065</td>\n",
              "      <td>1.657769</td>\n",
              "      <td>16.048295</td>\n",
              "      <td>10285.10</td>\n",
              "      <td>10335.00</td>\n",
              "      <td>8750.99</td>\n",
              "      <td>9224.52</td>\n",
              "      <td>33565</td>\n",
              "      <td>1072</td>\n",
              "      <td>9888685</td>\n",
              "      <td>10099.99</td>\n",
              "      <td>10166.25</td>\n",
              "      <td>8400.00</td>\n",
              "      <td>9014.23</td>\n",
              "      <td>38171.97003</td>\n",
              "      <td>247.87</td>\n",
              "      <td>1</td>\n",
              "      <td>1.34</td>\n",
              "      <td>51.312679</td>\n",
              "      <td>14.25</td>\n",
              "      <td>14.25</td>\n",
              "      <td>12.05</td>\n",
              "      <td>13.11</td>\n",
              "      <td>13.11</td>\n",
              "      <td>-0.974258</td>\n",
              "      <td>8419.788648</td>\n",
              "      <td>1.086884</td>\n",
              "      <td>1.784690</td>\n",
              "      <td>66.507798</td>\n",
              "      <td>0.001605</td>\n",
              "      <td>1596.374355</td>\n",
              "      <td>1546.358399</td>\n",
              "      <td>8.582658</td>\n",
              "      <td>2.540632</td>\n",
              "      <td>642450.9528</td>\n",
              "      <td>5879284961</td>\n",
              "      <td>642450.9528</td>\n",
              "      <td>5879284961</td>\n",
              "      <td>151633.7371</td>\n",
              "      <td>1.387651e+09</td>\n",
              "      <td>30</td>\n",
              "      <td>631190.6195</td>\n",
              "      <td>5776237860</td>\n",
              "      <td>642450.9528</td>\n",
              "      <td>5879284961</td>\n",
              "      <td>1393822.705</td>\n",
              "      <td>12755340828</td>\n",
              "      <td>2036273.658</td>\n",
              "      <td>1.863463e+10</td>\n",
              "    </tr>\n",
              "    <tr>\n",
              "      <th>1</th>\n",
              "      <td>2018-02-02</td>\n",
              "      <td>Down</td>\n",
              "      <td>1070.7</td>\n",
              "      <td>1079.7</td>\n",
              "      <td>10061000</td>\n",
              "      <td>10120000</td>\n",
              "      <td>7830000</td>\n",
              "      <td>9410000</td>\n",
              "      <td>-660000</td>\n",
              "      <td>-0.0655</td>\n",
              "      <td>52018</td>\n",
              "      <td>4.660000e+11</td>\n",
              "      <td>11089000</td>\n",
              "      <td>10518667</td>\n",
              "      <td>12099600</td>\n",
              "      <td>14788820</td>\n",
              "      <td>9.410380e+06</td>\n",
              "      <td>0.00</td>\n",
              "      <td>0.44</td>\n",
              "      <td>-660000</td>\n",
              "      <td>0</td>\n",
              "      <td>660000</td>\n",
              "      <td>238000.0000</td>\n",
              "      <td>645142.8571</td>\n",
              "      <td>0.368911</td>\n",
              "      <td>26.949207</td>\n",
              "      <td>12411716</td>\n",
              "      <td>14723508</td>\n",
              "      <td>-2311792</td>\n",
              "      <td>-1983211</td>\n",
              "      <td>27.920127</td>\n",
              "      <td>20.679488</td>\n",
              "      <td>9224.52</td>\n",
              "      <td>9250.00</td>\n",
              "      <td>8010.02</td>\n",
              "      <td>8873.03</td>\n",
              "      <td>49972</td>\n",
              "      <td>1080</td>\n",
              "      <td>9582872</td>\n",
              "      <td>9014.22</td>\n",
              "      <td>9090.08</td>\n",
              "      <td>7540.00</td>\n",
              "      <td>8787.52</td>\n",
              "      <td>52039.26808</td>\n",
              "      <td>247.87</td>\n",
              "      <td>1</td>\n",
              "      <td>1.34</td>\n",
              "      <td>42.721911</td>\n",
              "      <td>11.89</td>\n",
              "      <td>13.10</td>\n",
              "      <td>11.64</td>\n",
              "      <td>12.00</td>\n",
              "      <td>12.00</td>\n",
              "      <td>-1.198093</td>\n",
              "      <td>8019.846331</td>\n",
              "      <td>1.103221</td>\n",
              "      <td>1.719647</td>\n",
              "      <td>64.552097</td>\n",
              "      <td>-0.615347</td>\n",
              "      <td>946.366655</td>\n",
              "      <td>890.894902</td>\n",
              "      <td>6.267329</td>\n",
              "      <td>3.326606</td>\n",
              "      <td>661565.8893</td>\n",
              "      <td>5853314467</td>\n",
              "      <td>661565.8893</td>\n",
              "      <td>5853314467</td>\n",
              "      <td>150398.1722</td>\n",
              "      <td>1.330673e+09</td>\n",
              "      <td>15</td>\n",
              "      <td>631669.5173</td>\n",
              "      <td>5588801332</td>\n",
              "      <td>661565.8893</td>\n",
              "      <td>5853314467</td>\n",
              "      <td>1398605.628</td>\n",
              "      <td>12374396391</td>\n",
              "      <td>2060171.517</td>\n",
              "      <td>1.822771e+10</td>\n",
              "    </tr>\n",
              "    <tr>\n",
              "      <th>2</th>\n",
              "      <td>2018-02-03</td>\n",
              "      <td>Up</td>\n",
              "      <td>1070.7</td>\n",
              "      <td>1079.7</td>\n",
              "      <td>9410000</td>\n",
              "      <td>10200000</td>\n",
              "      <td>8400000</td>\n",
              "      <td>9520000</td>\n",
              "      <td>110000</td>\n",
              "      <td>0.0117</td>\n",
              "      <td>25406</td>\n",
              "      <td>2.360000e+11</td>\n",
              "      <td>10411200</td>\n",
              "      <td>9995667</td>\n",
              "      <td>11706600</td>\n",
              "      <td>14630024</td>\n",
              "      <td>8.783176e+06</td>\n",
              "      <td>0.13</td>\n",
              "      <td>0.50</td>\n",
              "      <td>110000</td>\n",
              "      <td>110000</td>\n",
              "      <td>0</td>\n",
              "      <td>195333.3333</td>\n",
              "      <td>673166.6667</td>\n",
              "      <td>0.290171</td>\n",
              "      <td>22.490885</td>\n",
              "      <td>11966837</td>\n",
              "      <td>14338063</td>\n",
              "      <td>-2371226</td>\n",
              "      <td>-2060814</td>\n",
              "      <td>32.962746</td>\n",
              "      <td>20.846881</td>\n",
              "      <td>8873.03</td>\n",
              "      <td>9473.01</td>\n",
              "      <td>8229.00</td>\n",
              "      <td>9199.96</td>\n",
              "      <td>28725</td>\n",
              "      <td>1080</td>\n",
              "      <td>9935957</td>\n",
              "      <td>8787.52</td>\n",
              "      <td>9499.00</td>\n",
              "      <td>8115.48</td>\n",
              "      <td>9240.00</td>\n",
              "      <td>23700.98509</td>\n",
              "      <td>247.87</td>\n",
              "      <td>1</td>\n",
              "      <td>1.34</td>\n",
              "      <td>NaN</td>\n",
              "      <td>NaN</td>\n",
              "      <td>NaN</td>\n",
              "      <td>NaN</td>\n",
              "      <td>NaN</td>\n",
              "      <td>NaN</td>\n",
              "      <td>-0.999548</td>\n",
              "      <td>8528.431542</td>\n",
              "      <td>1.067254</td>\n",
              "      <td>1.583934</td>\n",
              "      <td>67.256738</td>\n",
              "      <td>-0.947008</td>\n",
              "      <td>145.367410</td>\n",
              "      <td>122.518562</td>\n",
              "      <td>0.685695</td>\n",
              "      <td>3.184920</td>\n",
              "      <td>659549.6535</td>\n",
              "      <td>6003224244</td>\n",
              "      <td>659549.6535</td>\n",
              "      <td>6003224244</td>\n",
              "      <td>149015.1937</td>\n",
              "      <td>1.356337e+09</td>\n",
              "      <td>40</td>\n",
              "      <td>631970.2084</td>\n",
              "      <td>5752195997</td>\n",
              "      <td>659549.6535</td>\n",
              "      <td>6003224244</td>\n",
              "      <td>1397086.223</td>\n",
              "      <td>12716285790</td>\n",
              "      <td>2056635.877</td>\n",
              "      <td>1.871951e+10</td>\n",
              "    </tr>\n",
              "    <tr>\n",
              "      <th>3</th>\n",
              "      <td>2018-02-04</td>\n",
              "      <td>Down</td>\n",
              "      <td>1070.7</td>\n",
              "      <td>1079.7</td>\n",
              "      <td>9524000</td>\n",
              "      <td>10158000</td>\n",
              "      <td>8765000</td>\n",
              "      <td>8900000</td>\n",
              "      <td>-620000</td>\n",
              "      <td>-0.0651</td>\n",
              "      <td>18781</td>\n",
              "      <td>1.780000e+11</td>\n",
              "      <td>9865800</td>\n",
              "      <td>9491933</td>\n",
              "      <td>11299300</td>\n",
              "      <td>14522983</td>\n",
              "      <td>8.075617e+06</td>\n",
              "      <td>0.13</td>\n",
              "      <td>0.57</td>\n",
              "      <td>-620000</td>\n",
              "      <td>0</td>\n",
              "      <td>620000</td>\n",
              "      <td>195333.3333</td>\n",
              "      <td>760333.3333</td>\n",
              "      <td>0.256905</td>\n",
              "      <td>20.439484</td>\n",
              "      <td>11495016</td>\n",
              "      <td>13935244</td>\n",
              "      <td>-2440228</td>\n",
              "      <td>-2136697</td>\n",
              "      <td>26.289926</td>\n",
              "      <td>29.057600</td>\n",
              "      <td>9199.96</td>\n",
              "      <td>9368.00</td>\n",
              "      <td>7930.00</td>\n",
              "      <td>8184.81</td>\n",
              "      <td>32014</td>\n",
              "      <td>1080</td>\n",
              "      <td>8839595</td>\n",
              "      <td>9227.80</td>\n",
              "      <td>9350.00</td>\n",
              "      <td>7859.00</td>\n",
              "      <td>8167.91</td>\n",
              "      <td>24062.18196</td>\n",
              "      <td>247.87</td>\n",
              "      <td>1</td>\n",
              "      <td>1.34</td>\n",
              "      <td>NaN</td>\n",
              "      <td>NaN</td>\n",
              "      <td>NaN</td>\n",
              "      <td>NaN</td>\n",
              "      <td>NaN</td>\n",
              "      <td>NaN</td>\n",
              "      <td>-1.121999</td>\n",
              "      <td>7571.180807</td>\n",
              "      <td>1.085739</td>\n",
              "      <td>1.693366</td>\n",
              "      <td>59.564491</td>\n",
              "      <td>-0.495010</td>\n",
              "      <td>1653.312875</td>\n",
              "      <td>1625.669332</td>\n",
              "      <td>5.134512</td>\n",
              "      <td>3.639219</td>\n",
              "      <td>681863.9489</td>\n",
              "      <td>5605143266</td>\n",
              "      <td>681863.9489</td>\n",
              "      <td>5605143266</td>\n",
              "      <td>144085.2127</td>\n",
              "      <td>1.184427e+09</td>\n",
              "      <td>24</td>\n",
              "      <td>632632.5583</td>\n",
              "      <td>5200445235</td>\n",
              "      <td>681863.9489</td>\n",
              "      <td>5605143266</td>\n",
              "      <td>1394810.224</td>\n",
              "      <td>11465793353</td>\n",
              "      <td>2076674.173</td>\n",
              "      <td>1.707094e+10</td>\n",
              "    </tr>\n",
              "    <tr>\n",
              "      <th>4</th>\n",
              "      <td>2018-02-05</td>\n",
              "      <td>Down</td>\n",
              "      <td>1087.6</td>\n",
              "      <td>1088.5</td>\n",
              "      <td>8900000</td>\n",
              "      <td>9250000</td>\n",
              "      <td>7715000</td>\n",
              "      <td>7832000</td>\n",
              "      <td>-1068000</td>\n",
              "      <td>-0.1200</td>\n",
              "      <td>20710</td>\n",
              "      <td>1.760000e+11</td>\n",
              "      <td>9146400</td>\n",
              "      <td>8814000</td>\n",
              "      <td>10794900</td>\n",
              "      <td>14426556</td>\n",
              "      <td>7.163244e+06</td>\n",
              "      <td>0.09</td>\n",
              "      <td>0.67</td>\n",
              "      <td>-1068000</td>\n",
              "      <td>0</td>\n",
              "      <td>1068000</td>\n",
              "      <td>281000.0000</td>\n",
              "      <td>804285.7143</td>\n",
              "      <td>0.349378</td>\n",
              "      <td>25.891799</td>\n",
              "      <td>10931475</td>\n",
              "      <td>13483151</td>\n",
              "      <td>-2551677</td>\n",
              "      <td>-2219693</td>\n",
              "      <td>3.099338</td>\n",
              "      <td>20.784003</td>\n",
              "      <td>8179.99</td>\n",
              "      <td>8382.80</td>\n",
              "      <td>6625.00</td>\n",
              "      <td>6939.99</td>\n",
              "      <td>63403</td>\n",
              "      <td>1089</td>\n",
              "      <td>7557649</td>\n",
              "      <td>8167.90</td>\n",
              "      <td>8349.16</td>\n",
              "      <td>6425.75</td>\n",
              "      <td>6905.19</td>\n",
              "      <td>59578.69822</td>\n",
              "      <td>247.87</td>\n",
              "      <td>1</td>\n",
              "      <td>1.34</td>\n",
              "      <td>53.121239</td>\n",
              "      <td>10.96</td>\n",
              "      <td>11.12</td>\n",
              "      <td>9.60</td>\n",
              "      <td>10.05</td>\n",
              "      <td>10.05</td>\n",
              "      <td>-1.508322</td>\n",
              "      <td>7285.703698</td>\n",
              "      <td>0.951111</td>\n",
              "      <td>1.577575</td>\n",
              "      <td>50.401685</td>\n",
              "      <td>-0.850115</td>\n",
              "      <td>174.774570</td>\n",
              "      <td>126.968730</td>\n",
              "      <td>0.693550</td>\n",
              "      <td>3.528467</td>\n",
              "      <td>701178.4092</td>\n",
              "      <td>4858822798</td>\n",
              "      <td>701178.4092</td>\n",
              "      <td>4858822798</td>\n",
              "      <td>139922.2262</td>\n",
              "      <td>9.695925e+08</td>\n",
              "      <td>11</td>\n",
              "      <td>636265.0010</td>\n",
              "      <td>4409004687</td>\n",
              "      <td>701178.4092</td>\n",
              "      <td>4858822798</td>\n",
              "      <td>1398035.184</td>\n",
              "      <td>9687698785</td>\n",
              "      <td>2099213.593</td>\n",
              "      <td>1.454652e+10</td>\n",
              "    </tr>\n",
              "  </tbody>\n",
              "</table>\n",
              "</div>"
            ],
            "text/plain": [
              "         date Up/Down  원/달러(저가)  ...  reserve_usd_spot  reserve_all  reserve_usd_all\n",
              "0  2018-02-01    Down    1068.5  ...       12755340828  2036273.658     1.863463e+10\n",
              "1  2018-02-02    Down    1070.7  ...       12374396391  2060171.517     1.822771e+10\n",
              "2  2018-02-03      Up    1070.7  ...       12716285790  2056635.877     1.871951e+10\n",
              "3  2018-02-04    Down    1070.7  ...       11465793353  2076674.173     1.707094e+10\n",
              "4  2018-02-05    Down    1087.6  ...        9687698785  2099213.593     1.454652e+10\n",
              "\n",
              "[5 rows x 78 columns]"
            ]
          },
          "metadata": {
            "tags": []
          },
          "execution_count": 110
        }
      ]
    },
    {
      "cell_type": "markdown",
      "metadata": {
        "id": "VKBFba4dyHki"
      },
      "source": [
        "선형 보간법"
      ]
    },
    {
      "cell_type": "code",
      "metadata": {
        "id": "ppBXvpywcH80"
      },
      "source": [
        "# 선형 보간법으로 결측치를 없앰\n",
        "data1 = data.interpolate(method=\"linear\")"
      ],
      "execution_count": null,
      "outputs": []
    },
    {
      "cell_type": "code",
      "metadata": {
        "colab": {
          "base_uri": "https://localhost:8080/",
          "height": 264
        },
        "id": "5YrTp7OngIDR",
        "outputId": "4aa40cdc-524c-4098-bf4d-c5c0c70f4ee5"
      },
      "source": [
        "data1.head(3)"
      ],
      "execution_count": null,
      "outputs": [
        {
          "output_type": "execute_result",
          "data": {
            "text/html": [
              "<div>\n",
              "<style scoped>\n",
              "    .dataframe tbody tr th:only-of-type {\n",
              "        vertical-align: middle;\n",
              "    }\n",
              "\n",
              "    .dataframe tbody tr th {\n",
              "        vertical-align: top;\n",
              "    }\n",
              "\n",
              "    .dataframe thead th {\n",
              "        text-align: right;\n",
              "    }\n",
              "</style>\n",
              "<table border=\"1\" class=\"dataframe\">\n",
              "  <thead>\n",
              "    <tr style=\"text-align: right;\">\n",
              "      <th></th>\n",
              "      <th>date</th>\n",
              "      <th>Up/Down</th>\n",
              "      <th>원/달러(저가)</th>\n",
              "      <th>원/달러(종가)</th>\n",
              "      <th>open _x</th>\n",
              "      <th>high _x</th>\n",
              "      <th>low _x</th>\n",
              "      <th>close _x</th>\n",
              "      <th>전일대비</th>\n",
              "      <th>증감률</th>\n",
              "      <th>volume _x</th>\n",
              "      <th>value</th>\n",
              "      <th>MA(5)</th>\n",
              "      <th>WMA(5)</th>\n",
              "      <th>중심선</th>\n",
              "      <th>상한선</th>\n",
              "      <th>하한선</th>\n",
              "      <th>%B</th>\n",
              "      <th>band width</th>\n",
              "      <th>전일대비.1</th>\n",
              "      <th>상승분</th>\n",
              "      <th>하락분</th>\n",
              "      <th>AU</th>\n",
              "      <th>AD</th>\n",
              "      <th>RS</th>\n",
              "      <th>RSI</th>\n",
              "      <th>12EMA</th>\n",
              "      <th>26EMA</th>\n",
              "      <th>MACD</th>\n",
              "      <th>MACD 시그널</th>\n",
              "      <th>%K</th>\n",
              "      <th>%D</th>\n",
              "      <th>open _y</th>\n",
              "      <th>high _y</th>\n",
              "      <th>low _y</th>\n",
              "      <th>close _y</th>\n",
              "      <th>volume _y</th>\n",
              "      <th>환률</th>\n",
              "      <th>원화환산</th>\n",
              "      <th>open</th>\n",
              "      <th>high</th>\n",
              "      <th>low</th>\n",
              "      <th>close</th>\n",
              "      <th>volume</th>\n",
              "      <th>소비자물가지수</th>\n",
              "      <th>등락</th>\n",
              "      <th>등락률</th>\n",
              "      <th>market_premium</th>\n",
              "      <th>price_usd_open</th>\n",
              "      <th>price_usd_high</th>\n",
              "      <th>price_usd_low</th>\n",
              "      <th>price_usd_close</th>\n",
              "      <th>price_usd_adj_close</th>\n",
              "      <th>nvt_golden_cross</th>\n",
              "      <th>stock_to_flow</th>\n",
              "      <th>stock_to_flow_reversion</th>\n",
              "      <th>puell_multiple</th>\n",
              "      <th>stablecoin_supply_ratio</th>\n",
              "      <th>mpi</th>\n",
              "      <th>outflow_total</th>\n",
              "      <th>outflow_top10</th>\n",
              "      <th>outflow_mean</th>\n",
              "      <th>outflow_mean_ma7</th>\n",
              "      <th>reserve_x</th>\n",
              "      <th>reserve_usd_x</th>\n",
              "      <th>reserve_y</th>\n",
              "      <th>reserve_usd_y</th>\n",
              "      <th>reserve_bi</th>\n",
              "      <th>reserve_usd_bi</th>\n",
              "      <th>FGI</th>\n",
              "      <th>reserve_co</th>\n",
              "      <th>reserve_usd_co</th>\n",
              "      <th>reserve_der</th>\n",
              "      <th>reserve_usd_der</th>\n",
              "      <th>reserve_spot</th>\n",
              "      <th>reserve_usd_spot</th>\n",
              "      <th>reserve_all</th>\n",
              "      <th>reserve_usd_all</th>\n",
              "    </tr>\n",
              "  </thead>\n",
              "  <tbody>\n",
              "    <tr>\n",
              "      <th>0</th>\n",
              "      <td>2018-02-01</td>\n",
              "      <td>Down</td>\n",
              "      <td>1068.5</td>\n",
              "      <td>1071.9</td>\n",
              "      <td>11439000</td>\n",
              "      <td>11490000</td>\n",
              "      <td>10011000</td>\n",
              "      <td>10070000</td>\n",
              "      <td>-1359000</td>\n",
              "      <td>-0.1189</td>\n",
              "      <td>22226</td>\n",
              "      <td>2.370000e+11</td>\n",
              "      <td>11877400</td>\n",
              "      <td>11341133</td>\n",
              "      <td>12472700</td>\n",
              "      <td>14525823</td>\n",
              "      <td>1.041958e+07</td>\n",
              "      <td>-0.09</td>\n",
              "      <td>0.33</td>\n",
              "      <td>-1359000</td>\n",
              "      <td>0</td>\n",
              "      <td>1359000</td>\n",
              "      <td>261666.6667</td>\n",
              "      <td>642666.6667</td>\n",
              "      <td>0.407158</td>\n",
              "      <td>28.934759</td>\n",
              "      <td>12957482</td>\n",
              "      <td>15148589</td>\n",
              "      <td>-2191106</td>\n",
              "      <td>-1901065</td>\n",
              "      <td>1.657769</td>\n",
              "      <td>16.048295</td>\n",
              "      <td>10285.10</td>\n",
              "      <td>10335.00</td>\n",
              "      <td>8750.99</td>\n",
              "      <td>9224.52</td>\n",
              "      <td>33565</td>\n",
              "      <td>1072</td>\n",
              "      <td>9888685</td>\n",
              "      <td>10099.99</td>\n",
              "      <td>10166.25</td>\n",
              "      <td>8400.00</td>\n",
              "      <td>9014.23</td>\n",
              "      <td>38171.97003</td>\n",
              "      <td>247.87</td>\n",
              "      <td>1</td>\n",
              "      <td>1.34</td>\n",
              "      <td>51.312679</td>\n",
              "      <td>14.25</td>\n",
              "      <td>14.25</td>\n",
              "      <td>12.05</td>\n",
              "      <td>13.11</td>\n",
              "      <td>13.11</td>\n",
              "      <td>-0.974258</td>\n",
              "      <td>8419.788648</td>\n",
              "      <td>1.086884</td>\n",
              "      <td>1.784690</td>\n",
              "      <td>66.507798</td>\n",
              "      <td>0.001605</td>\n",
              "      <td>1596.374355</td>\n",
              "      <td>1546.358399</td>\n",
              "      <td>8.582658</td>\n",
              "      <td>2.540632</td>\n",
              "      <td>642450.9528</td>\n",
              "      <td>5879284961</td>\n",
              "      <td>642450.9528</td>\n",
              "      <td>5879284961</td>\n",
              "      <td>151633.7371</td>\n",
              "      <td>1.387651e+09</td>\n",
              "      <td>30</td>\n",
              "      <td>631190.6195</td>\n",
              "      <td>5776237860</td>\n",
              "      <td>642450.9528</td>\n",
              "      <td>5879284961</td>\n",
              "      <td>1393822.705</td>\n",
              "      <td>12755340828</td>\n",
              "      <td>2036273.658</td>\n",
              "      <td>1.863463e+10</td>\n",
              "    </tr>\n",
              "    <tr>\n",
              "      <th>1</th>\n",
              "      <td>2018-02-02</td>\n",
              "      <td>Down</td>\n",
              "      <td>1070.7</td>\n",
              "      <td>1079.7</td>\n",
              "      <td>10061000</td>\n",
              "      <td>10120000</td>\n",
              "      <td>7830000</td>\n",
              "      <td>9410000</td>\n",
              "      <td>-660000</td>\n",
              "      <td>-0.0655</td>\n",
              "      <td>52018</td>\n",
              "      <td>4.660000e+11</td>\n",
              "      <td>11089000</td>\n",
              "      <td>10518667</td>\n",
              "      <td>12099600</td>\n",
              "      <td>14788820</td>\n",
              "      <td>9.410380e+06</td>\n",
              "      <td>0.00</td>\n",
              "      <td>0.44</td>\n",
              "      <td>-660000</td>\n",
              "      <td>0</td>\n",
              "      <td>660000</td>\n",
              "      <td>238000.0000</td>\n",
              "      <td>645142.8571</td>\n",
              "      <td>0.368911</td>\n",
              "      <td>26.949207</td>\n",
              "      <td>12411716</td>\n",
              "      <td>14723508</td>\n",
              "      <td>-2311792</td>\n",
              "      <td>-1983211</td>\n",
              "      <td>27.920127</td>\n",
              "      <td>20.679488</td>\n",
              "      <td>9224.52</td>\n",
              "      <td>9250.00</td>\n",
              "      <td>8010.02</td>\n",
              "      <td>8873.03</td>\n",
              "      <td>49972</td>\n",
              "      <td>1080</td>\n",
              "      <td>9582872</td>\n",
              "      <td>9014.22</td>\n",
              "      <td>9090.08</td>\n",
              "      <td>7540.00</td>\n",
              "      <td>8787.52</td>\n",
              "      <td>52039.26808</td>\n",
              "      <td>247.87</td>\n",
              "      <td>1</td>\n",
              "      <td>1.34</td>\n",
              "      <td>42.721911</td>\n",
              "      <td>11.89</td>\n",
              "      <td>13.10</td>\n",
              "      <td>11.64</td>\n",
              "      <td>12.00</td>\n",
              "      <td>12.00</td>\n",
              "      <td>-1.198093</td>\n",
              "      <td>8019.846331</td>\n",
              "      <td>1.103221</td>\n",
              "      <td>1.719647</td>\n",
              "      <td>64.552097</td>\n",
              "      <td>-0.615347</td>\n",
              "      <td>946.366655</td>\n",
              "      <td>890.894902</td>\n",
              "      <td>6.267329</td>\n",
              "      <td>3.326606</td>\n",
              "      <td>661565.8893</td>\n",
              "      <td>5853314467</td>\n",
              "      <td>661565.8893</td>\n",
              "      <td>5853314467</td>\n",
              "      <td>150398.1722</td>\n",
              "      <td>1.330673e+09</td>\n",
              "      <td>15</td>\n",
              "      <td>631669.5173</td>\n",
              "      <td>5588801332</td>\n",
              "      <td>661565.8893</td>\n",
              "      <td>5853314467</td>\n",
              "      <td>1398605.628</td>\n",
              "      <td>12374396391</td>\n",
              "      <td>2060171.517</td>\n",
              "      <td>1.822771e+10</td>\n",
              "    </tr>\n",
              "    <tr>\n",
              "      <th>2</th>\n",
              "      <td>2018-02-03</td>\n",
              "      <td>Up</td>\n",
              "      <td>1070.7</td>\n",
              "      <td>1079.7</td>\n",
              "      <td>9410000</td>\n",
              "      <td>10200000</td>\n",
              "      <td>8400000</td>\n",
              "      <td>9520000</td>\n",
              "      <td>110000</td>\n",
              "      <td>0.0117</td>\n",
              "      <td>25406</td>\n",
              "      <td>2.360000e+11</td>\n",
              "      <td>10411200</td>\n",
              "      <td>9995667</td>\n",
              "      <td>11706600</td>\n",
              "      <td>14630024</td>\n",
              "      <td>8.783176e+06</td>\n",
              "      <td>0.13</td>\n",
              "      <td>0.50</td>\n",
              "      <td>110000</td>\n",
              "      <td>110000</td>\n",
              "      <td>0</td>\n",
              "      <td>195333.3333</td>\n",
              "      <td>673166.6667</td>\n",
              "      <td>0.290171</td>\n",
              "      <td>22.490885</td>\n",
              "      <td>11966837</td>\n",
              "      <td>14338063</td>\n",
              "      <td>-2371226</td>\n",
              "      <td>-2060814</td>\n",
              "      <td>32.962746</td>\n",
              "      <td>20.846881</td>\n",
              "      <td>8873.03</td>\n",
              "      <td>9473.01</td>\n",
              "      <td>8229.00</td>\n",
              "      <td>9199.96</td>\n",
              "      <td>28725</td>\n",
              "      <td>1080</td>\n",
              "      <td>9935957</td>\n",
              "      <td>8787.52</td>\n",
              "      <td>9499.00</td>\n",
              "      <td>8115.48</td>\n",
              "      <td>9240.00</td>\n",
              "      <td>23700.98509</td>\n",
              "      <td>247.87</td>\n",
              "      <td>1</td>\n",
              "      <td>1.34</td>\n",
              "      <td>46.188354</td>\n",
              "      <td>11.58</td>\n",
              "      <td>12.44</td>\n",
              "      <td>10.96</td>\n",
              "      <td>11.35</td>\n",
              "      <td>11.35</td>\n",
              "      <td>-0.999548</td>\n",
              "      <td>8528.431542</td>\n",
              "      <td>1.067254</td>\n",
              "      <td>1.583934</td>\n",
              "      <td>67.256738</td>\n",
              "      <td>-0.947008</td>\n",
              "      <td>145.367410</td>\n",
              "      <td>122.518562</td>\n",
              "      <td>0.685695</td>\n",
              "      <td>3.184920</td>\n",
              "      <td>659549.6535</td>\n",
              "      <td>6003224244</td>\n",
              "      <td>659549.6535</td>\n",
              "      <td>6003224244</td>\n",
              "      <td>149015.1937</td>\n",
              "      <td>1.356337e+09</td>\n",
              "      <td>40</td>\n",
              "      <td>631970.2084</td>\n",
              "      <td>5752195997</td>\n",
              "      <td>659549.6535</td>\n",
              "      <td>6003224244</td>\n",
              "      <td>1397086.223</td>\n",
              "      <td>12716285790</td>\n",
              "      <td>2056635.877</td>\n",
              "      <td>1.871951e+10</td>\n",
              "    </tr>\n",
              "  </tbody>\n",
              "</table>\n",
              "</div>"
            ],
            "text/plain": [
              "         date Up/Down  원/달러(저가)  ...  reserve_usd_spot  reserve_all  reserve_usd_all\n",
              "0  2018-02-01    Down    1068.5  ...       12755340828  2036273.658     1.863463e+10\n",
              "1  2018-02-02    Down    1070.7  ...       12374396391  2060171.517     1.822771e+10\n",
              "2  2018-02-03      Up    1070.7  ...       12716285790  2056635.877     1.871951e+10\n",
              "\n",
              "[3 rows x 78 columns]"
            ]
          },
          "metadata": {
            "tags": []
          },
          "execution_count": 112
        }
      ]
    },
    {
      "cell_type": "markdown",
      "metadata": {
        "id": "0ZVpMq_UyKaL"
      },
      "source": [
        "데이터 셋 분류"
      ]
    },
    {
      "cell_type": "code",
      "metadata": {
        "id": "SRqAKAyxe0VK"
      },
      "source": [
        "# 훈련데이터 셋과 테스트데이터 셋을 분류\n",
        "train = data1.iloc[:-37,:]\n",
        "test = data1.iloc[-37:,:]"
      ],
      "execution_count": null,
      "outputs": []
    },
    {
      "cell_type": "code",
      "metadata": {
        "id": "8sgZwTTYhAq9"
      },
      "source": [
        "# 각 데이터 셋에서 Feature와 label을 분류\n",
        "train_feature = train.iloc[:,2:]\n",
        "train_label = train.iloc[:,1]\n",
        "\n",
        "test_feature = test.iloc[:,2:]\n",
        "test_label = test.iloc[:,1]"
      ],
      "execution_count": null,
      "outputs": []
    },
    {
      "cell_type": "markdown",
      "metadata": {
        "id": "l10SZgkfyWlO"
      },
      "source": [
        "원핫인코딩 처리"
      ]
    },
    {
      "cell_type": "code",
      "metadata": {
        "id": "RZ_CrbyEhAmc"
      },
      "source": [
        "# label은 원핫인코딩 처리\n",
        "train_label = pd.get_dummies(train_label)\n",
        "test_label = pd.get_dummies(test_label)"
      ],
      "execution_count": null,
      "outputs": []
    },
    {
      "cell_type": "code",
      "metadata": {
        "id": "J62hQqSn7Nmu",
        "colab": {
          "base_uri": "https://localhost:8080/",
          "height": 204
        },
        "outputId": "e9f1ab58-1ebd-4495-acf7-235733881315"
      },
      "source": [
        "test_label.head(5)"
      ],
      "execution_count": null,
      "outputs": [
        {
          "output_type": "execute_result",
          "data": {
            "text/html": [
              "<div>\n",
              "<style scoped>\n",
              "    .dataframe tbody tr th:only-of-type {\n",
              "        vertical-align: middle;\n",
              "    }\n",
              "\n",
              "    .dataframe tbody tr th {\n",
              "        vertical-align: top;\n",
              "    }\n",
              "\n",
              "    .dataframe thead th {\n",
              "        text-align: right;\n",
              "    }\n",
              "</style>\n",
              "<table border=\"1\" class=\"dataframe\">\n",
              "  <thead>\n",
              "    <tr style=\"text-align: right;\">\n",
              "      <th></th>\n",
              "      <th>Down</th>\n",
              "      <th>Up</th>\n",
              "    </tr>\n",
              "  </thead>\n",
              "  <tbody>\n",
              "    <tr>\n",
              "      <th>1165</th>\n",
              "      <td>0</td>\n",
              "      <td>1</td>\n",
              "    </tr>\n",
              "    <tr>\n",
              "      <th>1166</th>\n",
              "      <td>1</td>\n",
              "      <td>0</td>\n",
              "    </tr>\n",
              "    <tr>\n",
              "      <th>1167</th>\n",
              "      <td>0</td>\n",
              "      <td>1</td>\n",
              "    </tr>\n",
              "    <tr>\n",
              "      <th>1168</th>\n",
              "      <td>1</td>\n",
              "      <td>0</td>\n",
              "    </tr>\n",
              "    <tr>\n",
              "      <th>1169</th>\n",
              "      <td>1</td>\n",
              "      <td>0</td>\n",
              "    </tr>\n",
              "  </tbody>\n",
              "</table>\n",
              "</div>"
            ],
            "text/plain": [
              "      Down  Up\n",
              "1165     0   1\n",
              "1166     1   0\n",
              "1167     0   1\n",
              "1168     1   0\n",
              "1169     1   0"
            ]
          },
          "metadata": {
            "tags": []
          },
          "execution_count": 116
        }
      ]
    },
    {
      "cell_type": "markdown",
      "metadata": {
        "id": "ps6PDDa9yZAe"
      },
      "source": [
        "데이터 정규화를 사용"
      ]
    },
    {
      "cell_type": "code",
      "metadata": {
        "colab": {
          "base_uri": "https://localhost:8080/"
        },
        "id": "Ck95xwmzmbgH",
        "outputId": "c74f6d29-fa4c-42f2-81fb-a3be0f48c557"
      },
      "source": [
        "# 데이터 정규화 (MinMax정규화)\n",
        "from sklearn.preprocessing import MinMaxScaler\n",
        "\n",
        "# 훈련 데이터셋 feature\n",
        "scaler = MinMaxScaler()\n",
        "\n",
        "train_feature = scaler.fit_transform(train_feature)\n",
        "train_feature = pd.DataFrame(train_feature)\n",
        "\n",
        "# 테스트 데이터셋 feature\n",
        "scaler = MinMaxScaler()\n",
        "\n",
        "test_feature = scaler.fit_transform(test_feature)\n",
        "test_feature = pd.DataFrame(test_feature)\n",
        "\n",
        "train_feature.head(3), test_feature.head(3)"
      ],
      "execution_count": null,
      "outputs": [
        {
          "output_type": "execute_result",
          "data": {
            "text/plain": [
              "(         0         1         2   ...        73        74        75\n",
              " 0  0.069712  0.076458  0.104045  ...  0.108162  0.000000  0.070825\n",
              " 1  0.080288  0.110151  0.085709  ...  0.102847  0.024863  0.067880\n",
              " 2  0.080288  0.110151  0.077046  ...  0.107617  0.021185  0.071440\n",
              " \n",
              " [3 rows x 76 columns],\n",
              "          0         1         2   ...        73        74        75\n",
              " 0  0.349558  0.488722  0.904467  ...  0.834773  0.109076  0.795455\n",
              " 1  0.663717  0.627820  0.917638  ...  0.831249  0.128685  0.795455\n",
              " 2  0.823009  0.665414  0.889173  ...  1.000000  0.167471  1.000000\n",
              " \n",
              " [3 rows x 76 columns])"
            ]
          },
          "metadata": {
            "tags": []
          },
          "execution_count": 117
        }
      ]
    },
    {
      "cell_type": "markdown",
      "metadata": {
        "id": "mJqFgXy8ye_U"
      },
      "source": [
        "슬라이딩 윈도우 형태로 데이터를 변환"
      ]
    },
    {
      "cell_type": "code",
      "metadata": {
        "id": "T2_bXCdGmbdF"
      },
      "source": [
        "# (배치 사이즈, 날짜, 속성)으로 데이터 셋을 생성\n",
        "def make_dataset(data, label, window_size):\n",
        "    feature_list = []\n",
        "    label_list = []\n",
        "    for i in range(len(data) - window_size):\n",
        "        feature_list.append(np.array(data.iloc[i:i+window_size]))\n",
        "        label_list.append(np.array(label.iloc[i+window_size]))\n",
        "    return np.array(feature_list), np.array(label_list)"
      ],
      "execution_count": null,
      "outputs": []
    },
    {
      "cell_type": "code",
      "metadata": {
        "colab": {
          "base_uri": "https://localhost:8080/"
        },
        "id": "m81G6Gcgk5Ps",
        "outputId": "f519153b-827b-4864-87b7-4680db15e516"
      },
      "source": [
        "# 데이터 셋을 슬라이딩 윈도우 형식으로 만들기\n",
        "\n",
        "# 훈련데이터 셋\n",
        "train_feature1, train_label1 = make_dataset(train_feature, train_label, 7)\n",
        "\n",
        "#테스트 데이터 셋\n",
        "test_feature, test_label = make_dataset(test_feature, test_label, 7)\n",
        "\n",
        "# Validation 셋을 추가함\n",
        "from sklearn.model_selection import train_test_split\n",
        "x_train, x_valid, y_train, y_valid = train_test_split(train_feature1, train_label1, test_size=0.2, shuffle=False)\n",
        "\n",
        "x_train.shape, x_valid.shape, test_feature.shape, test_label.shape"
      ],
      "execution_count": null,
      "outputs": [
        {
          "output_type": "execute_result",
          "data": {
            "text/plain": [
              "((926, 7, 76), (232, 7, 76), (30, 7, 76), (30, 2))"
            ]
          },
          "metadata": {
            "tags": []
          },
          "execution_count": 119
        }
      ]
    },
    {
      "cell_type": "markdown",
      "metadata": {
        "id": "OE7LQbBsqS1u"
      },
      "source": [
        "# 모델링"
      ]
    },
    {
      "cell_type": "markdown",
      "metadata": {
        "id": "Z5FXiLWKuY12"
      },
      "source": [
        "## LSTM"
      ]
    },
    {
      "cell_type": "code",
      "metadata": {
        "id": "4FmiDNXhqHBq"
      },
      "source": [
        "# 모델 생성\n",
        "from keras.models import Sequential\n",
        "from keras.layers import Dense\n",
        "from keras.callbacks import EarlyStopping, ModelCheckpoint\n",
        "from keras.layers import LSTM\n",
        "\n",
        "model = Sequential()\n",
        "\n",
        "model.add(LSTM(76, \n",
        "               input_shape=(train_feature1.shape[1], train_feature1.shape[2]), \n",
        "               activation='tanh'))\n",
        "\n",
        "\n",
        "model.add(Dense(2, activation='softmax'))"
      ],
      "execution_count": null,
      "outputs": []
    },
    {
      "cell_type": "code",
      "metadata": {
        "colab": {
          "base_uri": "https://localhost:8080/"
        },
        "id": "O8F2F6Ak3lP3",
        "outputId": "94a000e3-a196-4ca1-d0d9-fa9a4f468b25"
      },
      "source": [
        "# 모델 확인\n",
        "model.summary()"
      ],
      "execution_count": null,
      "outputs": [
        {
          "output_type": "stream",
          "text": [
            "Model: \"sequential_7\"\n",
            "_________________________________________________________________\n",
            "Layer (type)                 Output Shape              Param #   \n",
            "=================================================================\n",
            "lstm_3 (LSTM)                (None, 76)                46512     \n",
            "_________________________________________________________________\n",
            "dense_4 (Dense)              (None, 2)                 154       \n",
            "=================================================================\n",
            "Total params: 46,666\n",
            "Trainable params: 46,666\n",
            "Non-trainable params: 0\n",
            "_________________________________________________________________\n"
          ],
          "name": "stdout"
        }
      ]
    },
    {
      "cell_type": "code",
      "metadata": {
        "colab": {
          "base_uri": "https://localhost:8080/"
        },
        "id": "RWsqs_4uk5Nl",
        "outputId": "93f41f7c-d05f-43a4-ebd2-757b974886f2"
      },
      "source": [
        "# 모델 학습\n",
        "model.compile(loss='binary_crossentropy', optimizer='adam', metrics=['accuracy'])\n",
        "\n",
        "history = model.fit(x_train, y_train, batch_size=7, epochs=20, validation_data=(x_valid, y_valid))"
      ],
      "execution_count": null,
      "outputs": [
        {
          "output_type": "stream",
          "text": [
            "Epoch 1/20\n",
            "133/133 [==============================] - 3s 9ms/step - loss: 0.7043 - accuracy: 0.4638 - val_loss: 0.7082 - val_accuracy: 0.4871\n",
            "Epoch 2/20\n",
            "133/133 [==============================] - 1s 5ms/step - loss: 0.6938 - accuracy: 0.5227 - val_loss: 0.6952 - val_accuracy: 0.5216\n",
            "Epoch 3/20\n",
            "133/133 [==============================] - 1s 5ms/step - loss: 0.6860 - accuracy: 0.5592 - val_loss: 0.7008 - val_accuracy: 0.5129\n",
            "Epoch 4/20\n",
            "133/133 [==============================] - 1s 5ms/step - loss: 0.6930 - accuracy: 0.5099 - val_loss: 0.6950 - val_accuracy: 0.5259\n",
            "Epoch 5/20\n",
            "133/133 [==============================] - 1s 5ms/step - loss: 0.6903 - accuracy: 0.5152 - val_loss: 0.7232 - val_accuracy: 0.4828\n",
            "Epoch 6/20\n",
            "133/133 [==============================] - 1s 5ms/step - loss: 0.6853 - accuracy: 0.5477 - val_loss: 0.7169 - val_accuracy: 0.4741\n",
            "Epoch 7/20\n",
            "133/133 [==============================] - 1s 5ms/step - loss: 0.6846 - accuracy: 0.5536 - val_loss: 0.7357 - val_accuracy: 0.4741\n",
            "Epoch 8/20\n",
            "133/133 [==============================] - 1s 5ms/step - loss: 0.6827 - accuracy: 0.5399 - val_loss: 0.7568 - val_accuracy: 0.4698\n",
            "Epoch 9/20\n",
            "133/133 [==============================] - 1s 5ms/step - loss: 0.6822 - accuracy: 0.5699 - val_loss: 0.7354 - val_accuracy: 0.4784\n",
            "Epoch 10/20\n",
            "133/133 [==============================] - 1s 5ms/step - loss: 0.6851 - accuracy: 0.5437 - val_loss: 0.7639 - val_accuracy: 0.4784\n",
            "Epoch 11/20\n",
            "133/133 [==============================] - 1s 5ms/step - loss: 0.6892 - accuracy: 0.5149 - val_loss: 0.7628 - val_accuracy: 0.4784\n",
            "Epoch 12/20\n",
            "133/133 [==============================] - 1s 5ms/step - loss: 0.6862 - accuracy: 0.5437 - val_loss: 0.8127 - val_accuracy: 0.3922\n",
            "Epoch 13/20\n",
            "133/133 [==============================] - 1s 5ms/step - loss: 0.6831 - accuracy: 0.5515 - val_loss: 0.7448 - val_accuracy: 0.4828\n",
            "Epoch 14/20\n",
            "133/133 [==============================] - 1s 5ms/step - loss: 0.6836 - accuracy: 0.5408 - val_loss: 0.7368 - val_accuracy: 0.4828\n",
            "Epoch 15/20\n",
            "133/133 [==============================] - 1s 5ms/step - loss: 0.6785 - accuracy: 0.5819 - val_loss: 0.7413 - val_accuracy: 0.4828\n",
            "Epoch 16/20\n",
            "133/133 [==============================] - 1s 5ms/step - loss: 0.6798 - accuracy: 0.5742 - val_loss: 0.7046 - val_accuracy: 0.5216\n",
            "Epoch 17/20\n",
            "133/133 [==============================] - 1s 5ms/step - loss: 0.6793 - accuracy: 0.5514 - val_loss: 0.8051 - val_accuracy: 0.4698\n",
            "Epoch 18/20\n",
            "133/133 [==============================] - 1s 5ms/step - loss: 0.6754 - accuracy: 0.5760 - val_loss: 0.7354 - val_accuracy: 0.4914\n",
            "Epoch 19/20\n",
            "133/133 [==============================] - 1s 5ms/step - loss: 0.6734 - accuracy: 0.5880 - val_loss: 0.7670 - val_accuracy: 0.4612\n",
            "Epoch 20/20\n",
            "133/133 [==============================] - 1s 5ms/step - loss: 0.6732 - accuracy: 0.5828 - val_loss: 0.7588 - val_accuracy: 0.4655\n"
          ],
          "name": "stdout"
        }
      ]
    },
    {
      "cell_type": "code",
      "metadata": {
        "colab": {
          "base_uri": "https://localhost:8080/",
          "height": 333
        },
        "id": "m6jzrEeAk5LB",
        "outputId": "b81a50b9-b6ef-42e3-a3b7-b409471d3780"
      },
      "source": [
        "print(\"\\n 정확도 : %.4f\" % (model.evaluate(x_valid, y_valid)[0]))\n",
        "\n",
        "y_test_loss = history.history['val_loss']\n",
        "y_train_loss = history.history['loss']\n",
        "\n",
        "x_len = np.arange(len(y_test_loss))\n",
        "plt.plot (x_len, y_test_loss, marker=',', c='red', label='Validationset_loss')\n",
        "plt.plot(x_len, y_train_loss, marker=',', c='blue', label='Trainset_loss')\n",
        "\n",
        "plt.legend(loc='upper right')\n",
        "plt.grid()\n",
        "plt.xlabel('epoch')\n",
        "plt.ylabel('loss')\n",
        "plt.show()"
      ],
      "execution_count": null,
      "outputs": [
        {
          "output_type": "stream",
          "text": [
            "8/8 [==============================] - 0s 3ms/step - loss: 0.7588 - accuracy: 0.4655\n",
            "\n",
            " 정확도 : 0.7588\n"
          ],
          "name": "stdout"
        },
        {
          "output_type": "display_data",
          "data": {
            "image/png": "[encoded data removed]",
            "text/plain": [
              "<Figure size 432x288 with 1 Axes>"
            ]
          },
          "metadata": {
            "tags": [],
            "needs_background": "light"
          }
        }
      ]
    },
    {
      "cell_type": "markdown",
      "metadata": {
        "id": "k5tPkilL54gh"
      },
      "source": [
        "모델 예측"
      ]
    },
    {
      "cell_type": "code",
      "metadata": {
        "colab": {
          "base_uri": "https://localhost:8080/"
        },
        "id": "iF42Ohets54c",
        "outputId": "362004b0-6c04-465d-8563-66f3928dccae"
      },
      "source": [
        "# 모델 예측\n",
        "pred = model.predict(test_feature)\n",
        "pred"
      ],
      "execution_count": null,
      "outputs": [
        {
          "output_type": "execute_result",
          "data": {
            "text/plain": [
              "array([[0.79176474, 0.20823525],\n",
              "       [0.7590498 , 0.24095026],\n",
              "       [0.68985176, 0.31014824],\n",
              "       [0.77431196, 0.22568803],\n",
              "       [0.66593844, 0.33406162],\n",
              "       [0.494358  , 0.505642  ],\n",
              "       [0.8651701 , 0.13482992],\n",
              "       [0.46097335, 0.5390266 ],\n",
              "       [0.4694874 , 0.5305126 ],\n",
              "       [0.874156  , 0.12584397],\n",
              "       [0.4427182 , 0.5572818 ],\n",
              "       [0.54094535, 0.45905468],\n",
              "       [0.64471626, 0.35528374],\n",
              "       [0.9006563 , 0.09934378],\n",
              "       [0.5940628 , 0.40593714],\n",
              "       [0.623608  , 0.37639204],\n",
              "       [0.8293991 , 0.17060089],\n",
              "       [0.5108202 , 0.48917982],\n",
              "       [0.86232686, 0.13767311],\n",
              "       [0.6774308 , 0.32256916],\n",
              "       [0.7111846 , 0.28881538],\n",
              "       [0.8740572 , 0.12594284],\n",
              "       [0.72820866, 0.2717913 ],\n",
              "       [0.87973434, 0.12026566],\n",
              "       [0.78885096, 0.21114899],\n",
              "       [0.43191576, 0.56808424],\n",
              "       [0.90535456, 0.09464549],\n",
              "       [0.50739497, 0.49260503],\n",
              "       [0.47748378, 0.5225162 ],\n",
              "       [0.5772928 , 0.42270723]], dtype=float32)"
            ]
          },
          "metadata": {
            "tags": []
          },
          "execution_count": 172
        }
      ]
    },
    {
      "cell_type": "markdown",
      "metadata": {
        "id": "Own-zAXE6FqA"
      },
      "source": [
        "예측값을 원핫인코딩으로 전환"
      ]
    },
    {
      "cell_type": "code",
      "metadata": {
        "colab": {
          "base_uri": "https://localhost:8080/"
        },
        "id": "YL4h6uj466x0",
        "outputId": "b858c798-7c0d-4076-ecd9-d27ee38bd2ff"
      },
      "source": [
        "# 위치를 숫자로 반환\n",
        "preds = np.argmax(pred, axis=1)\n",
        "preds"
      ],
      "execution_count": null,
      "outputs": [
        {
          "output_type": "execute_result",
          "data": {
            "text/plain": [
              "array([0, 0, 0, 0, 0, 1, 0, 1, 1, 0, 1, 0, 0, 0, 0, 0, 0, 0, 0, 0, 0, 0,\n",
              "       0, 0, 0, 1, 0, 0, 1, 0])"
            ]
          },
          "metadata": {
            "tags": []
          },
          "execution_count": 173
        }
      ]
    },
    {
      "cell_type": "code",
      "metadata": {
        "id": "JAMnWi-V4-c1",
        "colab": {
          "base_uri": "https://localhost:8080/",
          "height": 979
        },
        "outputId": "cad9dd07-b990-4af9-d3f5-bba158e246d0"
      },
      "source": [
        "# 원핫인코딩\n",
        "preds1 = pd.get_dummies(preds)\n",
        "preds1"
      ],
      "execution_count": null,
      "outputs": [
        {
          "output_type": "execute_result",
          "data": {
            "text/html": [
              "<div>\n",
              "<style scoped>\n",
              "    .dataframe tbody tr th:only-of-type {\n",
              "        vertical-align: middle;\n",
              "    }\n",
              "\n",
              "    .dataframe tbody tr th {\n",
              "        vertical-align: top;\n",
              "    }\n",
              "\n",
              "    .dataframe thead th {\n",
              "        text-align: right;\n",
              "    }\n",
              "</style>\n",
              "<table border=\"1\" class=\"dataframe\">\n",
              "  <thead>\n",
              "    <tr style=\"text-align: right;\">\n",
              "      <th></th>\n",
              "      <th>0</th>\n",
              "      <th>1</th>\n",
              "    </tr>\n",
              "  </thead>\n",
              "  <tbody>\n",
              "    <tr>\n",
              "      <th>0</th>\n",
              "      <td>1</td>\n",
              "      <td>0</td>\n",
              "    </tr>\n",
              "    <tr>\n",
              "      <th>1</th>\n",
              "      <td>1</td>\n",
              "      <td>0</td>\n",
              "    </tr>\n",
              "    <tr>\n",
              "      <th>2</th>\n",
              "      <td>1</td>\n",
              "      <td>0</td>\n",
              "    </tr>\n",
              "    <tr>\n",
              "      <th>3</th>\n",
              "      <td>1</td>\n",
              "      <td>0</td>\n",
              "    </tr>\n",
              "    <tr>\n",
              "      <th>4</th>\n",
              "      <td>1</td>\n",
              "      <td>0</td>\n",
              "    </tr>\n",
              "    <tr>\n",
              "      <th>5</th>\n",
              "      <td>0</td>\n",
              "      <td>1</td>\n",
              "    </tr>\n",
              "    <tr>\n",
              "      <th>6</th>\n",
              "      <td>1</td>\n",
              "      <td>0</td>\n",
              "    </tr>\n",
              "    <tr>\n",
              "      <th>7</th>\n",
              "      <td>0</td>\n",
              "      <td>1</td>\n",
              "    </tr>\n",
              "    <tr>\n",
              "      <th>8</th>\n",
              "      <td>0</td>\n",
              "      <td>1</td>\n",
              "    </tr>\n",
              "    <tr>\n",
              "      <th>9</th>\n",
              "      <td>1</td>\n",
              "      <td>0</td>\n",
              "    </tr>\n",
              "    <tr>\n",
              "      <th>10</th>\n",
              "      <td>0</td>\n",
              "      <td>1</td>\n",
              "    </tr>\n",
              "    <tr>\n",
              "      <th>11</th>\n",
              "      <td>1</td>\n",
              "      <td>0</td>\n",
              "    </tr>\n",
              "    <tr>\n",
              "      <th>12</th>\n",
              "      <td>1</td>\n",
              "      <td>0</td>\n",
              "    </tr>\n",
              "    <tr>\n",
              "      <th>13</th>\n",
              "      <td>1</td>\n",
              "      <td>0</td>\n",
              "    </tr>\n",
              "    <tr>\n",
              "      <th>14</th>\n",
              "      <td>1</td>\n",
              "      <td>0</td>\n",
              "    </tr>\n",
              "    <tr>\n",
              "      <th>15</th>\n",
              "      <td>1</td>\n",
              "      <td>0</td>\n",
              "    </tr>\n",
              "    <tr>\n",
              "      <th>16</th>\n",
              "      <td>1</td>\n",
              "      <td>0</td>\n",
              "    </tr>\n",
              "    <tr>\n",
              "      <th>17</th>\n",
              "      <td>1</td>\n",
              "      <td>0</td>\n",
              "    </tr>\n",
              "    <tr>\n",
              "      <th>18</th>\n",
              "      <td>1</td>\n",
              "      <td>0</td>\n",
              "    </tr>\n",
              "    <tr>\n",
              "      <th>19</th>\n",
              "      <td>1</td>\n",
              "      <td>0</td>\n",
              "    </tr>\n",
              "    <tr>\n",
              "      <th>20</th>\n",
              "      <td>1</td>\n",
              "      <td>0</td>\n",
              "    </tr>\n",
              "    <tr>\n",
              "      <th>21</th>\n",
              "      <td>1</td>\n",
              "      <td>0</td>\n",
              "    </tr>\n",
              "    <tr>\n",
              "      <th>22</th>\n",
              "      <td>1</td>\n",
              "      <td>0</td>\n",
              "    </tr>\n",
              "    <tr>\n",
              "      <th>23</th>\n",
              "      <td>1</td>\n",
              "      <td>0</td>\n",
              "    </tr>\n",
              "    <tr>\n",
              "      <th>24</th>\n",
              "      <td>1</td>\n",
              "      <td>0</td>\n",
              "    </tr>\n",
              "    <tr>\n",
              "      <th>25</th>\n",
              "      <td>0</td>\n",
              "      <td>1</td>\n",
              "    </tr>\n",
              "    <tr>\n",
              "      <th>26</th>\n",
              "      <td>1</td>\n",
              "      <td>0</td>\n",
              "    </tr>\n",
              "    <tr>\n",
              "      <th>27</th>\n",
              "      <td>1</td>\n",
              "      <td>0</td>\n",
              "    </tr>\n",
              "    <tr>\n",
              "      <th>28</th>\n",
              "      <td>0</td>\n",
              "      <td>1</td>\n",
              "    </tr>\n",
              "    <tr>\n",
              "      <th>29</th>\n",
              "      <td>1</td>\n",
              "      <td>0</td>\n",
              "    </tr>\n",
              "  </tbody>\n",
              "</table>\n",
              "</div>"
            ],
            "text/plain": [
              "    0  1\n",
              "0   1  0\n",
              "1   1  0\n",
              "2   1  0\n",
              "3   1  0\n",
              "4   1  0\n",
              "5   0  1\n",
              "6   1  0\n",
              "7   0  1\n",
              "8   0  1\n",
              "9   1  0\n",
              "10  0  1\n",
              "11  1  0\n",
              "12  1  0\n",
              "13  1  0\n",
              "14  1  0\n",
              "15  1  0\n",
              "16  1  0\n",
              "17  1  0\n",
              "18  1  0\n",
              "19  1  0\n",
              "20  1  0\n",
              "21  1  0\n",
              "22  1  0\n",
              "23  1  0\n",
              "24  1  0\n",
              "25  0  1\n",
              "26  1  0\n",
              "27  1  0\n",
              "28  0  1\n",
              "29  1  0"
            ]
          },
          "metadata": {
            "tags": []
          },
          "execution_count": 174
        }
      ]
    },
    {
      "cell_type": "code",
      "metadata": {
        "id": "9GDqMQIDAgsp",
        "colab": {
          "base_uri": "https://localhost:8080/",
          "height": 553
        },
        "outputId": "a8a8be44-0078-44f7-dd86-ad134c5f0a7d"
      },
      "source": [
        "plt.figure(figsize=(12, 9))\n",
        "plt.plot(test_label[:,1], label = 'actual')\n",
        "plt.plot(preds1[1], label = 'prediction')\n",
        "plt.ylim([-0.5, 1.5])\n",
        "plt.title(\"Upward\") \n",
        "plt.legend()\n",
        "plt.show()"
      ],
      "execution_count": null,
      "outputs": [
        {
          "output_type": "display_data",
          "data": {
            "image/png": "[encoded data removed]",
            "text/plain": [
              "<Figure size 864x648 with 1 Axes>"
            ]
          },
          "metadata": {
            "tags": [],
            "needs_background": "light"
          }
        }
      ]
    },
    {
      "cell_type": "markdown",
      "metadata": {
        "id": "g9VFam7Is7-6"
      },
      "source": [
        "성능지표"
      ]
    },
    {
      "cell_type": "code",
      "metadata": {
        "id": "lZWJNor2s-FP"
      },
      "source": [
        "from sklearn.metrics import confusion_matrix, classification_report\n",
        "import sklearn.metrics as mt\n",
        "\n",
        "# 성능지표\n",
        "from sklearn.metrics import accuracy_score\n",
        "from sklearn.metrics import recall_score \n",
        "from sklearn.metrics import precision_score\n",
        "from sklearn.metrics import f1_score"
      ],
      "execution_count": null,
      "outputs": []
    },
    {
      "cell_type": "code",
      "metadata": {
        "colab": {
          "base_uri": "https://localhost:8080/"
        },
        "id": "Juz9Mc9Ms-Cy",
        "outputId": "55b53011-d83a-4626-c764-4717199df2a0"
      },
      "source": [
        "test_label1 = np.array(test_label).argmax(axis=1)\n",
        "\n",
        "# 성능평가: 하나로 묶어서\n",
        "print('accuracy',mt.accuracy_score(test_label1,preds))\n",
        "print(confusion_matrix(test_label1, preds))\n",
        "print(classification_report(test_label1, preds))"
      ],
      "execution_count": null,
      "outputs": [
        {
          "output_type": "stream",
          "text": [
            "accuracy 0.6666666666666666\n",
            "[[17  3]\n",
            " [ 7  3]]\n",
            "              precision    recall  f1-score   support\n",
            "\n",
            "           0       0.71      0.85      0.77        20\n",
            "           1       0.50      0.30      0.37        10\n",
            "\n",
            "    accuracy                           0.67        30\n",
            "   macro avg       0.60      0.57      0.57        30\n",
            "weighted avg       0.64      0.67      0.64        30\n",
            "\n"
          ],
          "name": "stdout"
        }
      ]
    },
    {
      "cell_type": "code",
      "metadata": {
        "colab": {
          "base_uri": "https://localhost:8080/"
        },
        "id": "DKm-52n44WiV",
        "outputId": "34dcf12e-c587-4e56-aa27-e6f4427ccdff"
      },
      "source": [
        "# 성능평가: 원핫인코딩으로\n",
        "print(classification_report(test_label, preds1, target_names=['하락', '상승']))"
      ],
      "execution_count": null,
      "outputs": [
        {
          "output_type": "stream",
          "text": [
            "              precision    recall  f1-score   support\n",
            "\n",
            "          하락       0.71      0.85      0.77        20\n",
            "          상승       0.50      0.30      0.37        10\n",
            "\n",
            "   micro avg       0.67      0.67      0.67        30\n",
            "   macro avg       0.60      0.57      0.57        30\n",
            "weighted avg       0.64      0.67      0.64        30\n",
            " samples avg       0.67      0.67      0.67        30\n",
            "\n"
          ],
          "name": "stdout"
        }
      ]
    },
    {
      "cell_type": "markdown",
      "metadata": {
        "id": "cdXyNipW8cA3"
      },
      "source": [
        "## RNN"
      ]
    },
    {
      "cell_type": "code",
      "metadata": {
        "id": "OG93jWDX8cA_"
      },
      "source": [
        "# 모델 생성\n",
        "from keras.models import Sequential\n",
        "from keras.layers import Dense\n",
        "from keras.callbacks import EarlyStopping, ModelCheckpoint\n",
        "from keras.layers import SimpleRNN\n",
        "\n",
        "model = Sequential()\n",
        "\n",
        "model.add(SimpleRNN(76, \n",
        "               input_shape=(train_feature1.shape[1], train_feature1.shape[2]), \n",
        "               activation='tanh'))\n",
        "\n",
        "\n",
        "model.add(Dense(2, activation='softmax'))"
      ],
      "execution_count": null,
      "outputs": []
    },
    {
      "cell_type": "code",
      "metadata": {
        "colab": {
          "base_uri": "https://localhost:8080/"
        },
        "id": "ny_1O3Hd8cBA",
        "outputId": "4ffcc5c3-e674-4377-f74a-3b02a3a940d2"
      },
      "source": [
        "# 모델 확인\n",
        "model.summary()"
      ],
      "execution_count": null,
      "outputs": [
        {
          "output_type": "stream",
          "text": [
            "Model: \"sequential_8\"\n",
            "_________________________________________________________________\n",
            "Layer (type)                 Output Shape              Param #   \n",
            "=================================================================\n",
            "simple_rnn_1 (SimpleRNN)     (None, 76)                11628     \n",
            "_________________________________________________________________\n",
            "dense_5 (Dense)              (None, 2)                 154       \n",
            "=================================================================\n",
            "Total params: 11,782\n",
            "Trainable params: 11,782\n",
            "Non-trainable params: 0\n",
            "_________________________________________________________________\n"
          ],
          "name": "stdout"
        }
      ]
    },
    {
      "cell_type": "code",
      "metadata": {
        "colab": {
          "base_uri": "https://localhost:8080/"
        },
        "id": "IXktsv5M8cBB",
        "outputId": "1358ba40-9de3-4114-9b1e-794785d884c2"
      },
      "source": [
        "# 모델 학습\n",
        "model.compile(loss='binary_crossentropy', optimizer='adam', metrics=['accuracy'])\n",
        "\n",
        "history = model.fit(x_train, y_train, batch_size=7, epochs=20, validation_data=(x_valid, y_valid))"
      ],
      "execution_count": null,
      "outputs": [
        {
          "output_type": "stream",
          "text": [
            "Epoch 1/20\n",
            "133/133 [==============================] - 2s 7ms/step - loss: 0.7212 - accuracy: 0.4703 - val_loss: 0.7862 - val_accuracy: 0.3922\n",
            "Epoch 2/20\n",
            "133/133 [==============================] - 0s 3ms/step - loss: 0.6929 - accuracy: 0.5163 - val_loss: 0.7086 - val_accuracy: 0.5474\n",
            "Epoch 3/20\n",
            "133/133 [==============================] - 0s 3ms/step - loss: 0.6923 - accuracy: 0.5326 - val_loss: 0.8027 - val_accuracy: 0.3966\n",
            "Epoch 4/20\n",
            "133/133 [==============================] - 0s 3ms/step - loss: 0.6940 - accuracy: 0.5241 - val_loss: 0.7786 - val_accuracy: 0.4181\n",
            "Epoch 5/20\n",
            "133/133 [==============================] - 0s 3ms/step - loss: 0.6905 - accuracy: 0.5499 - val_loss: 0.7114 - val_accuracy: 0.5302\n",
            "Epoch 6/20\n",
            "133/133 [==============================] - 0s 3ms/step - loss: 0.6794 - accuracy: 0.5533 - val_loss: 0.7569 - val_accuracy: 0.4741\n",
            "Epoch 7/20\n",
            "133/133 [==============================] - 0s 3ms/step - loss: 0.6888 - accuracy: 0.5480 - val_loss: 0.7948 - val_accuracy: 0.4526\n",
            "Epoch 8/20\n",
            "133/133 [==============================] - 0s 3ms/step - loss: 0.6858 - accuracy: 0.5422 - val_loss: 0.7916 - val_accuracy: 0.4310\n",
            "Epoch 9/20\n",
            "133/133 [==============================] - 0s 3ms/step - loss: 0.6734 - accuracy: 0.5855 - val_loss: 0.7982 - val_accuracy: 0.4526\n",
            "Epoch 10/20\n",
            "133/133 [==============================] - 0s 3ms/step - loss: 0.6642 - accuracy: 0.6004 - val_loss: 0.7796 - val_accuracy: 0.4612\n",
            "Epoch 11/20\n",
            "133/133 [==============================] - 0s 3ms/step - loss: 0.6932 - accuracy: 0.5280 - val_loss: 0.7818 - val_accuracy: 0.4698\n",
            "Epoch 12/20\n",
            "133/133 [==============================] - 0s 3ms/step - loss: 0.6623 - accuracy: 0.6036 - val_loss: 0.7234 - val_accuracy: 0.5086\n",
            "Epoch 13/20\n",
            "133/133 [==============================] - 0s 3ms/step - loss: 0.6774 - accuracy: 0.5625 - val_loss: 0.7255 - val_accuracy: 0.4914\n",
            "Epoch 14/20\n",
            "133/133 [==============================] - 0s 3ms/step - loss: 0.6705 - accuracy: 0.5749 - val_loss: 0.7598 - val_accuracy: 0.4181\n",
            "Epoch 15/20\n",
            "133/133 [==============================] - 0s 3ms/step - loss: 0.6648 - accuracy: 0.5976 - val_loss: 0.7665 - val_accuracy: 0.4267\n",
            "Epoch 16/20\n",
            "133/133 [==============================] - 0s 3ms/step - loss: 0.6529 - accuracy: 0.6153 - val_loss: 0.7779 - val_accuracy: 0.4655\n",
            "Epoch 17/20\n",
            "133/133 [==============================] - 0s 3ms/step - loss: 0.6641 - accuracy: 0.6050 - val_loss: 0.7791 - val_accuracy: 0.4569\n",
            "Epoch 18/20\n",
            "133/133 [==============================] - 0s 3ms/step - loss: 0.6574 - accuracy: 0.5898 - val_loss: 0.7437 - val_accuracy: 0.4397\n",
            "Epoch 19/20\n",
            "133/133 [==============================] - 0s 3ms/step - loss: 0.6437 - accuracy: 0.6187 - val_loss: 0.7407 - val_accuracy: 0.4440\n",
            "Epoch 20/20\n",
            "133/133 [==============================] - 0s 3ms/step - loss: 0.6463 - accuracy: 0.6039 - val_loss: 0.7591 - val_accuracy: 0.4181\n"
          ],
          "name": "stdout"
        }
      ]
    },
    {
      "cell_type": "code",
      "metadata": {
        "colab": {
          "base_uri": "https://localhost:8080/",
          "height": 333
        },
        "id": "xniZDI0c8cBB",
        "outputId": "fd993435-aff1-4d7b-e30e-41b12ed277f1"
      },
      "source": [
        "print(\"\\n 정확도 : %.4f\" % (model.evaluate(x_valid, y_valid)[0]))\n",
        "\n",
        "y_test_loss = history.history['val_loss']\n",
        "y_train_loss = history.history['loss']\n",
        "\n",
        "x_len = np.arange(len(y_test_loss))\n",
        "plt.plot (x_len, y_test_loss, marker=',', c='red', label='Validationset_loss')\n",
        "plt.plot(x_len, y_train_loss, marker=',', c='blue', label='Trainset_loss')\n",
        "\n",
        "plt.legend(loc='upper right')\n",
        "plt.grid()\n",
        "plt.xlabel('epoch')\n",
        "plt.ylabel('loss')\n",
        "plt.show()"
      ],
      "execution_count": null,
      "outputs": [
        {
          "output_type": "stream",
          "text": [
            "8/8 [==============================] - 0s 3ms/step - loss: 0.7591 - accuracy: 0.4181\n",
            "\n",
            " 정확도 : 0.7591\n"
          ],
          "name": "stdout"
        },
        {
          "output_type": "display_data",
          "data": {
            "image/png": "[encoded data removed]",
            "text/plain": [
              "<Figure size 432x288 with 1 Axes>"
            ]
          },
          "metadata": {
            "tags": [],
            "needs_background": "light"
          }
        }
      ]
    },
    {
      "cell_type": "markdown",
      "metadata": {
        "id": "aowcVR168cBB"
      },
      "source": [
        "모델 예측"
      ]
    },
    {
      "cell_type": "code",
      "metadata": {
        "colab": {
          "base_uri": "https://localhost:8080/"
        },
        "id": "QhaJk4Kp8cBC",
        "outputId": "5c15e586-87af-4bb4-90d2-f3e0007305fa"
      },
      "source": [
        "# 모델 예측\n",
        "pred = model.predict(test_feature)\n",
        "pred"
      ],
      "execution_count": null,
      "outputs": [
        {
          "output_type": "stream",
          "text": [
            "WARNING:tensorflow:5 out of the last 8 calls to <function Model.make_predict_function.<locals>.predict_function at 0x7f2e5581cd40> triggered tf.function retracing. Tracing is expensive and the excessive number of tracings could be due to (1) creating @tf.function repeatedly in a loop, (2) passing tensors with different shapes, (3) passing Python objects instead of tensors. For (1), please define your @tf.function outside of the loop. For (2), @tf.function has experimental_relax_shapes=True option that relaxes argument shapes that can avoid unnecessary retracing. For (3), please refer to https://www.tensorflow.org/guide/function#controlling_retracing and https://www.tensorflow.org/api_docs/python/tf/function for  more details.\n"
          ],
          "name": "stdout"
        },
        {
          "output_type": "execute_result",
          "data": {
            "text/plain": [
              "array([[0.7229139 , 0.27708605],\n",
              "       [0.6914642 , 0.3085358 ],\n",
              "       [0.27766198, 0.7223381 ],\n",
              "       [0.91069394, 0.08930599],\n",
              "       [0.19813235, 0.80186766],\n",
              "       [0.20572335, 0.7942766 ],\n",
              "       [0.91539276, 0.08460728],\n",
              "       [0.26147556, 0.73852444],\n",
              "       [0.21967192, 0.7803281 ],\n",
              "       [0.97528064, 0.02471939],\n",
              "       [0.73382777, 0.26617223],\n",
              "       [0.8894177 , 0.11058228],\n",
              "       [0.61127764, 0.3887224 ],\n",
              "       [0.9412037 , 0.05879626],\n",
              "       [0.5957559 , 0.40424412],\n",
              "       [0.59005594, 0.409944  ],\n",
              "       [0.63669765, 0.36330235],\n",
              "       [0.1293315 , 0.8706685 ],\n",
              "       [0.94475156, 0.05524845],\n",
              "       [0.5374959 , 0.46250418],\n",
              "       [0.8117555 , 0.1882445 ],\n",
              "       [0.87596226, 0.12403773],\n",
              "       [0.6107788 , 0.3892212 ],\n",
              "       [0.9597427 , 0.04025732],\n",
              "       [0.6627618 , 0.33723816],\n",
              "       [0.03680162, 0.96319836],\n",
              "       [0.95426494, 0.04573507],\n",
              "       [0.4401045 , 0.5598955 ],\n",
              "       [0.08354542, 0.9164546 ],\n",
              "       [0.58181906, 0.418181  ]], dtype=float32)"
            ]
          },
          "metadata": {
            "tags": []
          },
          "execution_count": 188
        }
      ]
    },
    {
      "cell_type": "markdown",
      "metadata": {
        "id": "eBBWSZAv8cBC"
      },
      "source": [
        "예측값을 원핫인코딩으로 전환"
      ]
    },
    {
      "cell_type": "code",
      "metadata": {
        "colab": {
          "base_uri": "https://localhost:8080/"
        },
        "id": "bsjYzVMy8cBC",
        "outputId": "e56968de-9d51-4d3d-94f5-346017c859e5"
      },
      "source": [
        "# 위치를 숫자로 반환\n",
        "preds = np.argmax(pred, axis=1)\n",
        "preds"
      ],
      "execution_count": null,
      "outputs": [
        {
          "output_type": "execute_result",
          "data": {
            "text/plain": [
              "array([0, 0, 1, 0, 1, 1, 0, 1, 1, 0, 0, 0, 0, 0, 0, 0, 0, 1, 0, 0, 0, 0,\n",
              "       0, 0, 0, 1, 0, 1, 1, 0])"
            ]
          },
          "metadata": {
            "tags": []
          },
          "execution_count": 189
        }
      ]
    },
    {
      "cell_type": "code",
      "metadata": {
        "colab": {
          "base_uri": "https://localhost:8080/",
          "height": 979
        },
        "id": "sUr4CoOK8cBC",
        "outputId": "a4498493-3e6a-4feb-cd03-53d7f470a056"
      },
      "source": [
        "# 원핫인코딩\n",
        "preds1 = pd.get_dummies(preds)\n",
        "preds1"
      ],
      "execution_count": null,
      "outputs": [
        {
          "output_type": "execute_result",
          "data": {
            "text/html": [
              "<div>\n",
              "<style scoped>\n",
              "    .dataframe tbody tr th:only-of-type {\n",
              "        vertical-align: middle;\n",
              "    }\n",
              "\n",
              "    .dataframe tbody tr th {\n",
              "        vertical-align: top;\n",
              "    }\n",
              "\n",
              "    .dataframe thead th {\n",
              "        text-align: right;\n",
              "    }\n",
              "</style>\n",
              "<table border=\"1\" class=\"dataframe\">\n",
              "  <thead>\n",
              "    <tr style=\"text-align: right;\">\n",
              "      <th></th>\n",
              "      <th>0</th>\n",
              "      <th>1</th>\n",
              "    </tr>\n",
              "  </thead>\n",
              "  <tbody>\n",
              "    <tr>\n",
              "      <th>0</th>\n",
              "      <td>1</td>\n",
              "      <td>0</td>\n",
              "    </tr>\n",
              "    <tr>\n",
              "      <th>1</th>\n",
              "      <td>1</td>\n",
              "      <td>0</td>\n",
              "    </tr>\n",
              "    <tr>\n",
              "      <th>2</th>\n",
              "      <td>0</td>\n",
              "      <td>1</td>\n",
              "    </tr>\n",
              "    <tr>\n",
              "      <th>3</th>\n",
              "      <td>1</td>\n",
              "      <td>0</td>\n",
              "    </tr>\n",
              "    <tr>\n",
              "      <th>4</th>\n",
              "      <td>0</td>\n",
              "      <td>1</td>\n",
              "    </tr>\n",
              "    <tr>\n",
              "      <th>5</th>\n",
              "      <td>0</td>\n",
              "      <td>1</td>\n",
              "    </tr>\n",
              "    <tr>\n",
              "      <th>6</th>\n",
              "      <td>1</td>\n",
              "      <td>0</td>\n",
              "    </tr>\n",
              "    <tr>\n",
              "      <th>7</th>\n",
              "      <td>0</td>\n",
              "      <td>1</td>\n",
              "    </tr>\n",
              "    <tr>\n",
              "      <th>8</th>\n",
              "      <td>0</td>\n",
              "      <td>1</td>\n",
              "    </tr>\n",
              "    <tr>\n",
              "      <th>9</th>\n",
              "      <td>1</td>\n",
              "      <td>0</td>\n",
              "    </tr>\n",
              "    <tr>\n",
              "      <th>10</th>\n",
              "      <td>1</td>\n",
              "      <td>0</td>\n",
              "    </tr>\n",
              "    <tr>\n",
              "      <th>11</th>\n",
              "      <td>1</td>\n",
              "      <td>0</td>\n",
              "    </tr>\n",
              "    <tr>\n",
              "      <th>12</th>\n",
              "      <td>1</td>\n",
              "      <td>0</td>\n",
              "    </tr>\n",
              "    <tr>\n",
              "      <th>13</th>\n",
              "      <td>1</td>\n",
              "      <td>0</td>\n",
              "    </tr>\n",
              "    <tr>\n",
              "      <th>14</th>\n",
              "      <td>1</td>\n",
              "      <td>0</td>\n",
              "    </tr>\n",
              "    <tr>\n",
              "      <th>15</th>\n",
              "      <td>1</td>\n",
              "      <td>0</td>\n",
              "    </tr>\n",
              "    <tr>\n",
              "      <th>16</th>\n",
              "      <td>1</td>\n",
              "      <td>0</td>\n",
              "    </tr>\n",
              "    <tr>\n",
              "      <th>17</th>\n",
              "      <td>0</td>\n",
              "      <td>1</td>\n",
              "    </tr>\n",
              "    <tr>\n",
              "      <th>18</th>\n",
              "      <td>1</td>\n",
              "      <td>0</td>\n",
              "    </tr>\n",
              "    <tr>\n",
              "      <th>19</th>\n",
              "      <td>1</td>\n",
              "      <td>0</td>\n",
              "    </tr>\n",
              "    <tr>\n",
              "      <th>20</th>\n",
              "      <td>1</td>\n",
              "      <td>0</td>\n",
              "    </tr>\n",
              "    <tr>\n",
              "      <th>21</th>\n",
              "      <td>1</td>\n",
              "      <td>0</td>\n",
              "    </tr>\n",
              "    <tr>\n",
              "      <th>22</th>\n",
              "      <td>1</td>\n",
              "      <td>0</td>\n",
              "    </tr>\n",
              "    <tr>\n",
              "      <th>23</th>\n",
              "      <td>1</td>\n",
              "      <td>0</td>\n",
              "    </tr>\n",
              "    <tr>\n",
              "      <th>24</th>\n",
              "      <td>1</td>\n",
              "      <td>0</td>\n",
              "    </tr>\n",
              "    <tr>\n",
              "      <th>25</th>\n",
              "      <td>0</td>\n",
              "      <td>1</td>\n",
              "    </tr>\n",
              "    <tr>\n",
              "      <th>26</th>\n",
              "      <td>1</td>\n",
              "      <td>0</td>\n",
              "    </tr>\n",
              "    <tr>\n",
              "      <th>27</th>\n",
              "      <td>0</td>\n",
              "      <td>1</td>\n",
              "    </tr>\n",
              "    <tr>\n",
              "      <th>28</th>\n",
              "      <td>0</td>\n",
              "      <td>1</td>\n",
              "    </tr>\n",
              "    <tr>\n",
              "      <th>29</th>\n",
              "      <td>1</td>\n",
              "      <td>0</td>\n",
              "    </tr>\n",
              "  </tbody>\n",
              "</table>\n",
              "</div>"
            ],
            "text/plain": [
              "    0  1\n",
              "0   1  0\n",
              "1   1  0\n",
              "2   0  1\n",
              "3   1  0\n",
              "4   0  1\n",
              "5   0  1\n",
              "6   1  0\n",
              "7   0  1\n",
              "8   0  1\n",
              "9   1  0\n",
              "10  1  0\n",
              "11  1  0\n",
              "12  1  0\n",
              "13  1  0\n",
              "14  1  0\n",
              "15  1  0\n",
              "16  1  0\n",
              "17  0  1\n",
              "18  1  0\n",
              "19  1  0\n",
              "20  1  0\n",
              "21  1  0\n",
              "22  1  0\n",
              "23  1  0\n",
              "24  1  0\n",
              "25  0  1\n",
              "26  1  0\n",
              "27  0  1\n",
              "28  0  1\n",
              "29  1  0"
            ]
          },
          "metadata": {
            "tags": []
          },
          "execution_count": 190
        }
      ]
    },
    {
      "cell_type": "code",
      "metadata": {
        "colab": {
          "base_uri": "https://localhost:8080/",
          "height": 553
        },
        "id": "frZQc88J8cBD",
        "outputId": "3bfb2e5a-cb9a-4d60-80d4-9a810f2dff89"
      },
      "source": [
        "plt.figure(figsize=(12, 9))\n",
        "plt.plot(test_label[:,1], label = 'actual')\n",
        "plt.plot(preds1[1], label = 'prediction')\n",
        "plt.ylim([-0.5, 1.5])\n",
        "plt.title(\"Upward\") \n",
        "plt.legend()\n",
        "plt.show()"
      ],
      "execution_count": null,
      "outputs": [
        {
          "output_type": "display_data",
          "data": {
            "image/png": "[encoded data removed]",
            "text/plain": [
              "<Figure size 864x648 with 1 Axes>"
            ]
          },
          "metadata": {
            "tags": [],
            "needs_background": "light"
          }
        }
      ]
    },
    {
      "cell_type": "markdown",
      "metadata": {
        "id": "Eza1suaJ8cBD"
      },
      "source": [
        "성능지표"
      ]
    },
    {
      "cell_type": "code",
      "metadata": {
        "id": "CVNuQGYm8cBD"
      },
      "source": [
        "from sklearn.metrics import confusion_matrix, classification_report\n",
        "import sklearn.metrics as mt\n",
        "\n",
        "# 성능지표\n",
        "from sklearn.metrics import accuracy_score\n",
        "from sklearn.metrics import recall_score \n",
        "from sklearn.metrics import precision_score\n",
        "from sklearn.metrics import f1_score"
      ],
      "execution_count": null,
      "outputs": []
    },
    {
      "cell_type": "code",
      "metadata": {
        "colab": {
          "base_uri": "https://localhost:8080/"
        },
        "id": "dQj3cjyk8cBD",
        "outputId": "e10a4abb-fada-476a-8006-0e42d901c57e"
      },
      "source": [
        "test_label1 = np.array(test_label).argmax(axis=1)\n",
        "\n",
        "# 성능평가: 하나로 묶어서\n",
        "print('accuracy',mt.accuracy_score(test_label1,preds))\n",
        "print(confusion_matrix(test_label1, preds))\n",
        "print(classification_report(test_label1, preds))"
      ],
      "execution_count": null,
      "outputs": [
        {
          "output_type": "stream",
          "text": [
            "accuracy 0.6333333333333333\n",
            "[[15  5]\n",
            " [ 6  4]]\n",
            "              precision    recall  f1-score   support\n",
            "\n",
            "           0       0.71      0.75      0.73        20\n",
            "           1       0.44      0.40      0.42        10\n",
            "\n",
            "    accuracy                           0.63        30\n",
            "   macro avg       0.58      0.57      0.58        30\n",
            "weighted avg       0.62      0.63      0.63        30\n",
            "\n"
          ],
          "name": "stdout"
        }
      ]
    },
    {
      "cell_type": "code",
      "metadata": {
        "colab": {
          "base_uri": "https://localhost:8080/"
        },
        "id": "KusTg4rj8cBE",
        "outputId": "cac66c8b-0ae1-46f2-dd79-26030640ff6f"
      },
      "source": [
        "# 성능평가: 원핫인코딩으로\n",
        "print(classification_report(test_label, preds1, target_names=['하락', '상승']))"
      ],
      "execution_count": null,
      "outputs": [
        {
          "output_type": "stream",
          "text": [
            "              precision    recall  f1-score   support\n",
            "\n",
            "          하락       0.71      0.75      0.73        20\n",
            "          상승       0.44      0.40      0.42        10\n",
            "\n",
            "   micro avg       0.63      0.63      0.63        30\n",
            "   macro avg       0.58      0.57      0.58        30\n",
            "weighted avg       0.62      0.63      0.63        30\n",
            " samples avg       0.63      0.63      0.63        30\n",
            "\n"
          ],
          "name": "stdout"
        }
      ]
    },
    {
      "cell_type": "markdown",
      "metadata": {
        "id": "VW_D8TWtL4N3"
      },
      "source": [
        "## GRU"
      ]
    },
    {
      "cell_type": "code",
      "metadata": {
        "id": "OQMdAIJ6L4OA"
      },
      "source": [
        "# 모델 생성\n",
        "from keras.models import Sequential\n",
        "from keras.layers import Dense\n",
        "from keras.callbacks import EarlyStopping, ModelCheckpoint\n",
        "from keras.layers import GRU\n",
        "\n",
        "model = Sequential()\n",
        "\n",
        "model.add(GRU(76, \n",
        "               input_shape=(train_feature1.shape[1], train_feature1.shape[2]), \n",
        "               activation='tanh'))\n",
        "\n",
        "\n",
        "model.add(Dense(2, activation='softmax'))"
      ],
      "execution_count": null,
      "outputs": []
    },
    {
      "cell_type": "code",
      "metadata": {
        "colab": {
          "base_uri": "https://localhost:8080/"
        },
        "id": "R8ogUjEuL4OA",
        "outputId": "deb282d8-80ad-48ed-c1b5-3fa86b9f90f5"
      },
      "source": [
        "# 모델 확인\n",
        "model.summary()"
      ],
      "execution_count": null,
      "outputs": [
        {
          "output_type": "stream",
          "text": [
            "Model: \"sequential_9\"\n",
            "_________________________________________________________________\n",
            "Layer (type)                 Output Shape              Param #   \n",
            "=================================================================\n",
            "gru (GRU)                    (None, 76)                35112     \n",
            "_________________________________________________________________\n",
            "dense_6 (Dense)              (None, 2)                 154       \n",
            "=================================================================\n",
            "Total params: 35,266\n",
            "Trainable params: 35,266\n",
            "Non-trainable params: 0\n",
            "_________________________________________________________________\n"
          ],
          "name": "stdout"
        }
      ]
    },
    {
      "cell_type": "code",
      "metadata": {
        "colab": {
          "base_uri": "https://localhost:8080/"
        },
        "id": "Zh4H9FF2L4OA",
        "outputId": "4795a2fe-7c79-448e-80d5-13fd092d4c24"
      },
      "source": [
        "# 모델 학습\n",
        "model.compile(loss='binary_crossentropy', optimizer='adam', metrics=['accuracy'])\n",
        "\n",
        "history = model.fit(x_train, y_train, batch_size=7, epochs=20, validation_data=(x_valid, y_valid))"
      ],
      "execution_count": null,
      "outputs": [
        {
          "output_type": "stream",
          "text": [
            "Epoch 1/20\n",
            "133/133 [==============================] - 5s 9ms/step - loss: 0.7083 - accuracy: 0.5048 - val_loss: 0.8054 - val_accuracy: 0.4009\n",
            "Epoch 2/20\n",
            "133/133 [==============================] - 1s 6ms/step - loss: 0.6944 - accuracy: 0.5175 - val_loss: 0.9135 - val_accuracy: 0.3879\n",
            "Epoch 3/20\n",
            "133/133 [==============================] - 1s 6ms/step - loss: 0.6911 - accuracy: 0.5517 - val_loss: 0.7851 - val_accuracy: 0.4871\n",
            "Epoch 4/20\n",
            "133/133 [==============================] - 1s 6ms/step - loss: 0.6885 - accuracy: 0.5368 - val_loss: 0.8547 - val_accuracy: 0.3922\n",
            "Epoch 5/20\n",
            "133/133 [==============================] - 1s 5ms/step - loss: 0.6902 - accuracy: 0.5180 - val_loss: 0.8196 - val_accuracy: 0.4612\n",
            "Epoch 6/20\n",
            "133/133 [==============================] - 1s 5ms/step - loss: 0.6864 - accuracy: 0.5240 - val_loss: 0.8198 - val_accuracy: 0.4440\n",
            "Epoch 7/20\n",
            "133/133 [==============================] - 1s 5ms/step - loss: 0.6912 - accuracy: 0.5163 - val_loss: 0.8544 - val_accuracy: 0.4569\n",
            "Epoch 8/20\n",
            "133/133 [==============================] - 1s 6ms/step - loss: 0.6827 - accuracy: 0.5866 - val_loss: 0.8186 - val_accuracy: 0.4741\n",
            "Epoch 9/20\n",
            "133/133 [==============================] - 1s 5ms/step - loss: 0.6821 - accuracy: 0.5735 - val_loss: 0.7408 - val_accuracy: 0.4957\n",
            "Epoch 10/20\n",
            "133/133 [==============================] - 1s 5ms/step - loss: 0.6735 - accuracy: 0.5635 - val_loss: 0.8031 - val_accuracy: 0.4612\n",
            "Epoch 11/20\n",
            "133/133 [==============================] - 1s 5ms/step - loss: 0.6817 - accuracy: 0.5674 - val_loss: 0.7787 - val_accuracy: 0.4828\n",
            "Epoch 12/20\n",
            "133/133 [==============================] - 1s 5ms/step - loss: 0.6891 - accuracy: 0.5387 - val_loss: 0.8355 - val_accuracy: 0.4655\n",
            "Epoch 13/20\n",
            "133/133 [==============================] - 1s 5ms/step - loss: 0.6758 - accuracy: 0.5570 - val_loss: 0.7768 - val_accuracy: 0.4741\n",
            "Epoch 14/20\n",
            "133/133 [==============================] - 1s 5ms/step - loss: 0.6700 - accuracy: 0.5754 - val_loss: 0.7728 - val_accuracy: 0.4655\n",
            "Epoch 15/20\n",
            "133/133 [==============================] - 1s 5ms/step - loss: 0.6738 - accuracy: 0.6316 - val_loss: 0.8470 - val_accuracy: 0.4741\n",
            "Epoch 16/20\n",
            "133/133 [==============================] - 1s 5ms/step - loss: 0.6615 - accuracy: 0.6058 - val_loss: 0.8318 - val_accuracy: 0.4655\n",
            "Epoch 17/20\n",
            "133/133 [==============================] - 1s 5ms/step - loss: 0.6611 - accuracy: 0.6203 - val_loss: 0.8048 - val_accuracy: 0.4138\n",
            "Epoch 18/20\n",
            "133/133 [==============================] - 1s 5ms/step - loss: 0.6583 - accuracy: 0.6021 - val_loss: 0.8095 - val_accuracy: 0.4440\n",
            "Epoch 19/20\n",
            "133/133 [==============================] - 1s 6ms/step - loss: 0.6475 - accuracy: 0.6155 - val_loss: 0.7660 - val_accuracy: 0.4440\n",
            "Epoch 20/20\n",
            "133/133 [==============================] - 1s 6ms/step - loss: 0.6702 - accuracy: 0.6016 - val_loss: 0.7388 - val_accuracy: 0.4828\n"
          ],
          "name": "stdout"
        }
      ]
    },
    {
      "cell_type": "code",
      "metadata": {
        "colab": {
          "base_uri": "https://localhost:8080/",
          "height": 333
        },
        "id": "szetm1J-L4OB",
        "outputId": "6fdde61b-9a4a-4d41-c989-b806ae683f1f"
      },
      "source": [
        "print(\"\\n 정확도 : %.4f\" % (model.evaluate(x_valid, y_valid)[0]))\n",
        "\n",
        "y_test_loss = history.history['val_loss']\n",
        "y_train_loss = history.history['loss']\n",
        "\n",
        "x_len = np.arange(len(y_test_loss))\n",
        "plt.plot (x_len, y_test_loss, marker=',', c='red', label='Validationset_loss')\n",
        "plt.plot(x_len, y_train_loss, marker=',', c='blue', label='Trainset_loss')\n",
        "\n",
        "plt.legend(loc='upper right')\n",
        "plt.grid()\n",
        "plt.xlabel('epoch')\n",
        "plt.ylabel('loss')\n",
        "plt.show()"
      ],
      "execution_count": null,
      "outputs": [
        {
          "output_type": "stream",
          "text": [
            "8/8 [==============================] - 0s 3ms/step - loss: 0.7388 - accuracy: 0.4828\n",
            "\n",
            " 정확도 : 0.7388\n"
          ],
          "name": "stdout"
        },
        {
          "output_type": "display_data",
          "data": {
            "image/png": "[encoded data removed]",
            "text/plain": [
              "<Figure size 432x288 with 1 Axes>"
            ]
          },
          "metadata": {
            "tags": [],
            "needs_background": "light"
          }
        }
      ]
    },
    {
      "cell_type": "markdown",
      "metadata": {
        "id": "C7oS5x7OL4OB"
      },
      "source": [
        "모델 예측"
      ]
    },
    {
      "cell_type": "code",
      "metadata": {
        "colab": {
          "base_uri": "https://localhost:8080/"
        },
        "id": "MsMfTQHKL4OC",
        "outputId": "1a385a5b-b889-4e41-ae99-49647e00069e"
      },
      "source": [
        "# 모델 예측\n",
        "pred = model.predict(test_feature)\n",
        "pred"
      ],
      "execution_count": null,
      "outputs": [
        {
          "output_type": "stream",
          "text": [
            "WARNING:tensorflow:6 out of the last 9 calls to <function Model.make_predict_function.<locals>.predict_function at 0x7f2e55a74050> triggered tf.function retracing. Tracing is expensive and the excessive number of tracings could be due to (1) creating @tf.function repeatedly in a loop, (2) passing tensors with different shapes, (3) passing Python objects instead of tensors. For (1), please define your @tf.function outside of the loop. For (2), @tf.function has experimental_relax_shapes=True option that relaxes argument shapes that can avoid unnecessary retracing. For (3), please refer to https://www.tensorflow.org/guide/function#controlling_retracing and https://www.tensorflow.org/api_docs/python/tf/function for  more details.\n"
          ],
          "name": "stdout"
        },
        {
          "output_type": "execute_result",
          "data": {
            "text/plain": [
              "array([[0.7266014 , 0.2733986 ],\n",
              "       [0.74280536, 0.25719464],\n",
              "       [0.5474491 , 0.4525509 ],\n",
              "       [0.8232584 , 0.17674159],\n",
              "       [0.67128295, 0.32871708],\n",
              "       [0.28720388, 0.7127961 ],\n",
              "       [0.96230346, 0.03769651],\n",
              "       [0.684182  , 0.315818  ],\n",
              "       [0.1249741 , 0.87502587],\n",
              "       [0.90134627, 0.09865376],\n",
              "       [0.88782984, 0.11217017],\n",
              "       [0.79072785, 0.20927213],\n",
              "       [0.7290059 , 0.2709941 ],\n",
              "       [0.9614855 , 0.03851448],\n",
              "       [0.946259  , 0.05374093],\n",
              "       [0.72518575, 0.2748142 ],\n",
              "       [0.7593198 , 0.24068023],\n",
              "       [0.33459547, 0.6654046 ],\n",
              "       [0.84373975, 0.15626024],\n",
              "       [0.7739865 , 0.22601354],\n",
              "       [0.585868  , 0.414132  ],\n",
              "       [0.78335714, 0.21664287],\n",
              "       [0.6608724 , 0.3391276 ],\n",
              "       [0.9524793 , 0.04752072],\n",
              "       [0.9070756 , 0.0929244 ],\n",
              "       [0.28160778, 0.71839225],\n",
              "       [0.98187894, 0.0181211 ],\n",
              "       [0.8969449 , 0.1030551 ],\n",
              "       [0.38446844, 0.61553156],\n",
              "       [0.6734701 , 0.32652992]], dtype=float32)"
            ]
          },
          "metadata": {
            "tags": []
          },
          "execution_count": 201
        }
      ]
    },
    {
      "cell_type": "markdown",
      "metadata": {
        "id": "_LncaP0qL4OC"
      },
      "source": [
        "예측값을 원핫인코딩으로 전환"
      ]
    },
    {
      "cell_type": "code",
      "metadata": {
        "colab": {
          "base_uri": "https://localhost:8080/"
        },
        "id": "bYnkWx4FL4OC",
        "outputId": "7feb9ce2-6433-4c91-fb67-a85fc4852bcc"
      },
      "source": [
        "# 위치를 숫자로 반환\n",
        "preds = np.argmax(pred, axis=1)\n",
        "preds"
      ],
      "execution_count": null,
      "outputs": [
        {
          "output_type": "execute_result",
          "data": {
            "text/plain": [
              "array([0, 0, 0, 0, 0, 1, 0, 0, 1, 0, 0, 0, 0, 0, 0, 0, 0, 1, 0, 0, 0, 0,\n",
              "       0, 0, 0, 1, 0, 0, 1, 0])"
            ]
          },
          "metadata": {
            "tags": []
          },
          "execution_count": 202
        }
      ]
    },
    {
      "cell_type": "code",
      "metadata": {
        "colab": {
          "base_uri": "https://localhost:8080/",
          "height": 979
        },
        "id": "QolDgzxlL4OC",
        "outputId": "264c8d91-c5b3-4b4e-ee03-b7214f538e6a"
      },
      "source": [
        "# 원핫인코딩\n",
        "preds1 = pd.get_dummies(preds)\n",
        "preds1"
      ],
      "execution_count": null,
      "outputs": [
        {
          "output_type": "execute_result",
          "data": {
            "text/html": [
              "<div>\n",
              "<style scoped>\n",
              "    .dataframe tbody tr th:only-of-type {\n",
              "        vertical-align: middle;\n",
              "    }\n",
              "\n",
              "    .dataframe tbody tr th {\n",
              "        vertical-align: top;\n",
              "    }\n",
              "\n",
              "    .dataframe thead th {\n",
              "        text-align: right;\n",
              "    }\n",
              "</style>\n",
              "<table border=\"1\" class=\"dataframe\">\n",
              "  <thead>\n",
              "    <tr style=\"text-align: right;\">\n",
              "      <th></th>\n",
              "      <th>0</th>\n",
              "      <th>1</th>\n",
              "    </tr>\n",
              "  </thead>\n",
              "  <tbody>\n",
              "    <tr>\n",
              "      <th>0</th>\n",
              "      <td>1</td>\n",
              "      <td>0</td>\n",
              "    </tr>\n",
              "    <tr>\n",
              "      <th>1</th>\n",
              "      <td>1</td>\n",
              "      <td>0</td>\n",
              "    </tr>\n",
              "    <tr>\n",
              "      <th>2</th>\n",
              "      <td>1</td>\n",
              "      <td>0</td>\n",
              "    </tr>\n",
              "    <tr>\n",
              "      <th>3</th>\n",
              "      <td>1</td>\n",
              "      <td>0</td>\n",
              "    </tr>\n",
              "    <tr>\n",
              "      <th>4</th>\n",
              "      <td>1</td>\n",
              "      <td>0</td>\n",
              "    </tr>\n",
              "    <tr>\n",
              "      <th>5</th>\n",
              "      <td>0</td>\n",
              "      <td>1</td>\n",
              "    </tr>\n",
              "    <tr>\n",
              "      <th>6</th>\n",
              "      <td>1</td>\n",
              "      <td>0</td>\n",
              "    </tr>\n",
              "    <tr>\n",
              "      <th>7</th>\n",
              "      <td>1</td>\n",
              "      <td>0</td>\n",
              "    </tr>\n",
              "    <tr>\n",
              "      <th>8</th>\n",
              "      <td>0</td>\n",
              "      <td>1</td>\n",
              "    </tr>\n",
              "    <tr>\n",
              "      <th>9</th>\n",
              "      <td>1</td>\n",
              "      <td>0</td>\n",
              "    </tr>\n",
              "    <tr>\n",
              "      <th>10</th>\n",
              "      <td>1</td>\n",
              "      <td>0</td>\n",
              "    </tr>\n",
              "    <tr>\n",
              "      <th>11</th>\n",
              "      <td>1</td>\n",
              "      <td>0</td>\n",
              "    </tr>\n",
              "    <tr>\n",
              "      <th>12</th>\n",
              "      <td>1</td>\n",
              "      <td>0</td>\n",
              "    </tr>\n",
              "    <tr>\n",
              "      <th>13</th>\n",
              "      <td>1</td>\n",
              "      <td>0</td>\n",
              "    </tr>\n",
              "    <tr>\n",
              "      <th>14</th>\n",
              "      <td>1</td>\n",
              "      <td>0</td>\n",
              "    </tr>\n",
              "    <tr>\n",
              "      <th>15</th>\n",
              "      <td>1</td>\n",
              "      <td>0</td>\n",
              "    </tr>\n",
              "    <tr>\n",
              "      <th>16</th>\n",
              "      <td>1</td>\n",
              "      <td>0</td>\n",
              "    </tr>\n",
              "    <tr>\n",
              "      <th>17</th>\n",
              "      <td>0</td>\n",
              "      <td>1</td>\n",
              "    </tr>\n",
              "    <tr>\n",
              "      <th>18</th>\n",
              "      <td>1</td>\n",
              "      <td>0</td>\n",
              "    </tr>\n",
              "    <tr>\n",
              "      <th>19</th>\n",
              "      <td>1</td>\n",
              "      <td>0</td>\n",
              "    </tr>\n",
              "    <tr>\n",
              "      <th>20</th>\n",
              "      <td>1</td>\n",
              "      <td>0</td>\n",
              "    </tr>\n",
              "    <tr>\n",
              "      <th>21</th>\n",
              "      <td>1</td>\n",
              "      <td>0</td>\n",
              "    </tr>\n",
              "    <tr>\n",
              "      <th>22</th>\n",
              "      <td>1</td>\n",
              "      <td>0</td>\n",
              "    </tr>\n",
              "    <tr>\n",
              "      <th>23</th>\n",
              "      <td>1</td>\n",
              "      <td>0</td>\n",
              "    </tr>\n",
              "    <tr>\n",
              "      <th>24</th>\n",
              "      <td>1</td>\n",
              "      <td>0</td>\n",
              "    </tr>\n",
              "    <tr>\n",
              "      <th>25</th>\n",
              "      <td>0</td>\n",
              "      <td>1</td>\n",
              "    </tr>\n",
              "    <tr>\n",
              "      <th>26</th>\n",
              "      <td>1</td>\n",
              "      <td>0</td>\n",
              "    </tr>\n",
              "    <tr>\n",
              "      <th>27</th>\n",
              "      <td>1</td>\n",
              "      <td>0</td>\n",
              "    </tr>\n",
              "    <tr>\n",
              "      <th>28</th>\n",
              "      <td>0</td>\n",
              "      <td>1</td>\n",
              "    </tr>\n",
              "    <tr>\n",
              "      <th>29</th>\n",
              "      <td>1</td>\n",
              "      <td>0</td>\n",
              "    </tr>\n",
              "  </tbody>\n",
              "</table>\n",
              "</div>"
            ],
            "text/plain": [
              "    0  1\n",
              "0   1  0\n",
              "1   1  0\n",
              "2   1  0\n",
              "3   1  0\n",
              "4   1  0\n",
              "5   0  1\n",
              "6   1  0\n",
              "7   1  0\n",
              "8   0  1\n",
              "9   1  0\n",
              "10  1  0\n",
              "11  1  0\n",
              "12  1  0\n",
              "13  1  0\n",
              "14  1  0\n",
              "15  1  0\n",
              "16  1  0\n",
              "17  0  1\n",
              "18  1  0\n",
              "19  1  0\n",
              "20  1  0\n",
              "21  1  0\n",
              "22  1  0\n",
              "23  1  0\n",
              "24  1  0\n",
              "25  0  1\n",
              "26  1  0\n",
              "27  1  0\n",
              "28  0  1\n",
              "29  1  0"
            ]
          },
          "metadata": {
            "tags": []
          },
          "execution_count": 203
        }
      ]
    },
    {
      "cell_type": "code",
      "metadata": {
        "colab": {
          "base_uri": "https://localhost:8080/",
          "height": 553
        },
        "id": "ak1_7zU1L4OD",
        "outputId": "e431c8a0-2e48-424b-8fa7-bfcebb55d1a2"
      },
      "source": [
        "plt.figure(figsize=(12, 9))\n",
        "plt.plot(test_label[:,1], label = 'actual')\n",
        "plt.plot(preds1[1], label = 'prediction')\n",
        "plt.ylim([-0.5, 1.5])\n",
        "plt.title(\"Upward\") \n",
        "plt.legend()\n",
        "plt.show()"
      ],
      "execution_count": null,
      "outputs": [
        {
          "output_type": "display_data",
          "data": {
            "image/png": "[encoded data removed]",
            "text/plain": [
              "<Figure size 864x648 with 1 Axes>"
            ]
          },
          "metadata": {
            "tags": [],
            "needs_background": "light"
          }
        }
      ]
    },
    {
      "cell_type": "markdown",
      "metadata": {
        "id": "YLBQRTkdL4OD"
      },
      "source": [
        "성능지표"
      ]
    },
    {
      "cell_type": "code",
      "metadata": {
        "id": "epgrRPLTL4OD"
      },
      "source": [
        "from sklearn.metrics import confusion_matrix, classification_report\n",
        "import sklearn.metrics as mt\n",
        "\n",
        "# 성능지표\n",
        "from sklearn.metrics import accuracy_score\n",
        "from sklearn.metrics import recall_score \n",
        "from sklearn.metrics import precision_score\n",
        "from sklearn.metrics import f1_score"
      ],
      "execution_count": null,
      "outputs": []
    },
    {
      "cell_type": "code",
      "metadata": {
        "colab": {
          "base_uri": "https://localhost:8080/"
        },
        "id": "db7UjgIkL4OD",
        "outputId": "32a64597-276e-4e1a-c7b2-bf83ffd77bd1"
      },
      "source": [
        "test_label1 = np.array(test_label).argmax(axis=1)\n",
        "\n",
        "# 성능평가: 하나로 묶어서\n",
        "print('accuracy',mt.accuracy_score(test_label1,preds))\n",
        "print(confusion_matrix(test_label1, preds))\n",
        "print(classification_report(test_label1, preds))"
      ],
      "execution_count": null,
      "outputs": [
        {
          "output_type": "stream",
          "text": [
            "accuracy 0.7666666666666667\n",
            "[[19  1]\n",
            " [ 6  4]]\n",
            "              precision    recall  f1-score   support\n",
            "\n",
            "           0       0.76      0.95      0.84        20\n",
            "           1       0.80      0.40      0.53        10\n",
            "\n",
            "    accuracy                           0.77        30\n",
            "   macro avg       0.78      0.68      0.69        30\n",
            "weighted avg       0.77      0.77      0.74        30\n",
            "\n"
          ],
          "name": "stdout"
        }
      ]
    },
    {
      "cell_type": "code",
      "metadata": {
        "colab": {
          "base_uri": "https://localhost:8080/"
        },
        "id": "lnN-j0n8L4OD",
        "outputId": "c279210b-07e9-4c11-e36a-e27b8cade24b"
      },
      "source": [
        "# 성능평가: 원핫인코딩으로\n",
        "print(classification_report(test_label, preds1, target_names=['하락', '상승']))"
      ],
      "execution_count": null,
      "outputs": [
        {
          "output_type": "stream",
          "text": [
            "              precision    recall  f1-score   support\n",
            "\n",
            "          하락       0.76      0.95      0.84        20\n",
            "          상승       0.80      0.40      0.53        10\n",
            "\n",
            "   micro avg       0.77      0.77      0.77        30\n",
            "   macro avg       0.78      0.68      0.69        30\n",
            "weighted avg       0.77      0.77      0.74        30\n",
            " samples avg       0.77      0.77      0.77        30\n",
            "\n"
          ],
          "name": "stdout"
        }
      ]
    }
  ]
}